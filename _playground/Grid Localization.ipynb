{
 "cells": [
  {
   "cell_type": "markdown",
   "metadata": {},
   "source": [
    "### Libraries"
   ]
  },
  {
   "cell_type": "code",
   "execution_count": 499,
   "metadata": {
    "collapsed": true
   },
   "outputs": [],
   "source": [
    "import numpy as np\n",
    "import matplotlib.pyplot as plt\n",
    "from pylab import rcParams\n",
    "from scipy import ndimage\n",
    "\n",
    "import shapely.geometry as geom\n",
    "import pandas as pd\n",
    "import geopandas as gpd\n",
    "\n",
    "import math\n",
    "import time\n",
    "import pickle\n",
    "from collections import namedtuple\n",
    "\n",
    "\n",
    "%matplotlib inline\n",
    "plt.rcParams[\"figure.figsize\"] = (20,7)"
   ]
  },
  {
   "cell_type": "markdown",
   "metadata": {},
   "source": [
    "## Load from disk"
   ]
  },
  {
   "cell_type": "code",
   "execution_count": 500,
   "metadata": {},
   "outputs": [],
   "source": [
    "poses = pickle.load(open(\"poses.df\", 'rb'))\n",
    "arena_d = pickle.load(open(\"arena_d.df\", 'rb'))\n",
    "arena_g = pickle.load(open(\"arena_g.gdf\", 'rb'))\n",
    "\n",
    "# Convert Pandas DataFrame to NumPy array\n",
    "poses_np = np.array(poses.values)"
   ]
  },
  {
   "cell_type": "markdown",
   "metadata": {},
   "source": [
    "## Variables"
   ]
  },
  {
   "cell_type": "code",
   "execution_count": 501,
   "metadata": {
    "collapsed": true
   },
   "outputs": [],
   "source": [
    "Measurement = namedtuple('Measurement', ['sonar', 'IR_L', 'IR_R'])\n",
    "Pose = namedtuple(\"Pose\", ['x', 'y', 'theta'])"
   ]
  },
  {
   "cell_type": "markdown",
   "metadata": {},
   "source": [
    "## Parameters"
   ]
  },
  {
   "cell_type": "code",
   "execution_count": 502,
   "metadata": {},
   "outputs": [
    {
     "data": {
      "text/plain": [
       "array([ 0.00029138,  0.00029138,  0.00029138, ...,  0.        ,\n",
       "        0.        ,  0.        ])"
      ]
     },
     "execution_count": 502,
     "metadata": {},
     "output_type": "execute_result"
    }
   ],
   "source": [
    "poses_np[:,7]"
   ]
  },
  {
   "cell_type": "markdown",
   "metadata": {},
   "source": [
    "## Generate NumPy array"
   ]
  },
  {
   "cell_type": "code",
   "execution_count": null,
   "metadata": {
    "collapsed": true
   },
   "outputs": [],
   "source": []
  },
  {
   "cell_type": "markdown",
   "metadata": {},
   "source": [
    "## Playground: testing space"
   ]
  },
  {
   "cell_type": "markdown",
   "metadata": {},
   "source": [
    "### Arena"
   ]
  },
  {
   "cell_type": "code",
   "execution_count": 503,
   "metadata": {
    "collapsed": true
   },
   "outputs": [],
   "source": [
    "# mock_position = geom.Point(0.01, 0.81)\n",
    "# # theta = geom.Point(0, 6)\n",
    "# # mock_circle = geom.Point(0,0).buffer(6, resolution=30)\n",
    "\n",
    "# # scan = geom.LineString((mock_position, theta))\n",
    "# # arena_d.loc[len(arena_d)] = [\"scan\", scan]\n",
    "\n",
    "# arena_d.loc[len(arena_d)] = ['test', mock_position]\n",
    "# arena_g = gpd.GeoDataFrame(arena_d)\n",
    "# arena_g.plot()\n",
    "\n",
    "\n",
    "# # cleat the dataframe\n",
    "# arena_d.drop(arena_d.index[arena_d['type'] == 'test'], inplace=True)\n",
    "# print(arena_g)"
   ]
  },
  {
   "cell_type": "markdown",
   "metadata": {},
   "source": [
    "### Probability"
   ]
  },
  {
   "cell_type": "code",
   "execution_count": 504,
   "metadata": {
    "collapsed": true
   },
   "outputs": [],
   "source": [
    "# sigma = 0.05\n",
    "# mean = 0.5\n",
    "\n",
    "# sigma = 1/sigma\n",
    "\n",
    "# x = np.linspace(0,1,500) # 100 linearly spaced numbers\n",
    "# y = sigma*2.5*(1/(sigma*math.sqrt(2*math.pi))*np.exp( -(1/2*sigma**2)*((x - mean))**2))\n",
    "\n",
    "# a = 0.55\n",
    "# b = sigma*2.5*(1/(sigma*math.sqrt(2*math.pi))*np.exp( -(1/2*sigma**2)*((a - mean))**2))\n",
    "\n",
    "# plt.plot(x,y)\n",
    "# plt.plot(a,b,'co')"
   ]
  },
  {
   "cell_type": "markdown",
   "metadata": {},
   "source": [
    "## Grid Localization"
   ]
  },
  {
   "cell_type": "code",
   "execution_count": 505,
   "metadata": {
    "collapsed": true
   },
   "outputs": [],
   "source": [
    "def _match(sensor, reading, lookup_value):\n",
    "    \"\"\"\n",
    "    Determines if a reading from the sensors matches a value \n",
    "    in the lookup table with some probability.\n",
    "    \n",
    "    \"\"\"\n",
    "    THRESHOLD = 0.6 \n",
    "    if reading == None and lookup_value == None:\n",
    "        return True\n",
    "    elif sensor == \"sonar\":\n",
    "        SIGMA = 0.1\n",
    "    elif sensor == \"IR_L\":\n",
    "        SIGMA = 0.1\n",
    "    elif sensor == \"IR_R\":\n",
    "        SIGMA = 0.1\n",
    "\n",
    "    sigma = 1/SIGMA\n",
    "    mean = lookup_value\n",
    "    x = reading\n",
    "    y = sigma*2.5*(1/(sigma*math.sqrt(2*math.pi))*np.exp( -(1/2*sigma**2)*((x - mean))**2))\n",
    "    if y > THRESHOLD:\n",
    "        return True\n",
    "    return False\n",
    "    \n",
    "def localize(poses_np, measurement):\n",
    "    \"\"\"\n",
    "    poses_np    :: a lookup table of possible poses and sensor readings. Columns: open, x, y, theta, sonar, IR_L, IR_R\n",
    "    measurement :: a tuple of readings from (sonar, IR_L, IR_R).\n",
    "    \n",
    "    \"\"\"\n",
    "    THRESHOLD = 0.8\n",
    "    def posterior():\n",
    "        \"\"\"\n",
    "        Finds posterior = [prior] X [probability after measurement]\n",
    "        \"\"\"\n",
    "        \n",
    "        # DEBUGGING VARIABLES\n",
    "        count = {\n",
    "            'sonar': 0,\n",
    "            'IR_L': 0,\n",
    "            'IR_R': 0,\n",
    "            'all': 0,\n",
    "        }\n",
    "        \n",
    "        # CRITICAL VARIABLES – \n",
    "        # CHANGE ONLY IF YOU KNOW WHAT YOU'RE DOING\n",
    "        prob_sum = 0\n",
    "        \n",
    "        for i in range(len(poses_np)): # iterate rows\n",
    "            if poses_np[i][0] == 1: # of open space, i.e. not coordinates of an obstacle\n",
    "                match_all = False\n",
    "#                 print(str(measurement.IR_R) + \" \" +  str(poses_np[i][6]))\n",
    "                if _match('sonar',  measurement.sonar,  poses_np[i][4]):\n",
    "                    count['sonar'] += 1\n",
    "                    match_all = True\n",
    "                    if _match('IR_L',  measurement.IR_L,  poses_np[i][5]):\n",
    "                        count['IR_L'] += 1\n",
    "                        if _match('IR_R',  measurement.IR_R,  poses_np[i][6]):\n",
    "                            count['IR_R'] += 1\n",
    "                            \n",
    "                            \n",
    "                poses_np[i][7] = (poses_np[i][7] * (match_all * THRESHOLD + (1-match_all) * (1.0-THRESHOLD)))\n",
    "                prob_sum += poses_np[i][7]\n",
    "\n",
    "        print(count)\n",
    "        # normalize--> total probability theory\n",
    "        for i in range(len(poses_np)):\n",
    "            poses_np[i][7] = poses_np[i][7] / prob_sum\n",
    "    \n",
    "    posterior()\n",
    "    return poses_np"
   ]
  },
  {
   "cell_type": "markdown",
   "metadata": {},
   "source": [
    "## Heatmap"
   ]
  },
  {
   "cell_type": "code",
   "execution_count": 506,
   "metadata": {
    "collapsed": true
   },
   "outputs": [],
   "source": [
    "def heatmap(poses_np):\n",
    "    \"\"\"\n",
    "    The heatmap relies on the following sorting of the array:\n",
    "    'y' descending (primary sort)\n",
    "    'x' ascending (secondary sort)\n",
    "    'theta' ascending (tertiary sort)\n",
    "    \n",
    "    \"\"\"\n",
    "    \n",
    "    plt.rcParams[\"figure.figsize\"] = (10,5)\n",
    "    heatmap = []\n",
    "    y = poses_np[0][2]\n",
    "    row = []\n",
    "                \n",
    "    # iterate through lookup table\n",
    "    for i in range(len(poses_np)): \n",
    "        # True while we're moving horizontally to the right – x increases, y stays constant\n",
    "        if y == poses_np[i][2]:\n",
    "            if poses_np[i][3] == 0:  # if theta == 0\n",
    "                row.append(poses_np[i][7]) # append probability\n",
    "            else:\n",
    "            # theta is some rotation, we're at same square still\n",
    "                row[-1] += poses_np[i][7] # saturate probability here \n",
    "        # y changes – we're one row lower\n",
    "        else:\n",
    "            heatmap.append(row)\n",
    "            row = []\n",
    "            y = poses_np[i][2]\n",
    "            row.append(poses_np[i][7])\n",
    "\n",
    "    # Make plot with vertical (default) colorbar\n",
    "    fig, ax = plt.subplots()\n",
    "\n",
    "    cax = ax.imshow(heatmap, interpolation='nearest', cmap=cm.coolwarm)\n",
    "    ax.set_title('Probabalistic location')\n",
    "\n",
    "    # Add colorbar, make sure to specify tick locations to match desired ticklabels\n",
    "    cbar = fig.colorbar(cax, ticks=[-1, 0, 1])\n",
    "    cbar.ax.set_yticklabels(['< -1', '0', '> 1'])  # vertically oriented colorbar\n",
    "    \n",
    "    plt.show()"
   ]
  },
  {
   "cell_type": "markdown",
   "metadata": {},
   "source": [
    "# Run"
   ]
  },
  {
   "cell_type": "code",
   "execution_count": 507,
   "metadata": {},
   "outputs": [],
   "source": [
    "def refresh(poses_np):\n",
    "    \"\"\" \n",
    "    Takes all rows where 0-indexed column 1 one,\n",
    "    and change 7-indexed column to the prior probability.\n",
    "    \n",
    "    \"\"\"\n",
    "    prob = 1.0 / len(poses_np[:,0])\n",
    "    poses_np[poses_np[:, 0] == 1, 7] = prob\n",
    "    return poses_np\n",
    "\n",
    "def run(measurements, poses_np):\n",
    "    for measurement in measurements:\n",
    "        poses_np = localize(poses_np, measurement) \n",
    "        heatmap(poses_np)\n",
    "    return poses_np"
   ]
  },
  {
   "cell_type": "code",
   "execution_count": 508,
   "metadata": {
    "collapsed": true
   },
   "outputs": [],
   "source": [
    "\n",
    "# measurements = [Measurement(0.1900000, 0.012310000, 3.98), \n",
    "#                 Measurement(0.6219393, 0.11132547, 1.200889), \n",
    "#                 Measurement(0.380000, 0.020000, 2.250448)]"
   ]
  },
  {
   "cell_type": "code",
   "execution_count": 509,
   "metadata": {},
   "outputs": [
    {
     "name": "stdout",
     "output_type": "stream",
     "text": [
      "{'sonar': 364, 'IR_L': 63, 'IR_R': 2, 'all': 0}\n"
     ]
    },
    {
     "data": {
      "image/png": "[encoded data removed]",
      "text/plain": [
       "<matplotlib.figure.Figure at 0x1823054e10>"
      ]
     },
     "metadata": {},
     "output_type": "display_data"
    }
   ],
   "source": [
    "measurements = [Measurement(0.12, 0.012310000, 3.98)]\n",
    "\n",
    "# refresh\n",
    "poses_np = refresh(poses_np)\n",
    "# # show prior\n",
    "# heatmap(poses_np)\n",
    "# GO!\n",
    "poses_np = run(measurements, poses_np)"
   ]
  },
  {
   "cell_type": "code",
   "execution_count": 498,
   "metadata": {},
   "outputs": [],
   "source": [
    "# poses_np[:,7]"
   ]
  },
  {
   "cell_type": "code",
   "execution_count": null,
   "metadata": {
    "collapsed": true
   },
   "outputs": [],
   "source": []
  },
  {
   "cell_type": "code",
   "execution_count": null,
   "metadata": {
    "collapsed": true
   },
   "outputs": [],
   "source": []
  }
 ],
 "metadata": {
  "kernelspec": {
   "display_name": "Python 3",
   "language": "python",
   "name": "python3"
  },
  "language_info": {
   "codemirror_mode": {
    "name": "ipython",
    "version": 3
   },
   "file_extension": ".py",
   "mimetype": "text/x-python",
   "name": "python",
   "nbconvert_exporter": "python",
   "pygments_lexer": "ipython3",
   "version": "3.6.3"
  }
 },
 "nbformat": 4,
 "nbformat_minor": 2
}
