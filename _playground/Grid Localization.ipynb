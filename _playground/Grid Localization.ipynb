{
 "cells": [
  {
   "cell_type": "markdown",
   "metadata": {},
   "source": [
    "### Libraries"
   ]
  },
  {
   "cell_type": "code",
   "execution_count": 254,
   "metadata": {
    "collapsed": true
   },
   "outputs": [],
   "source": [
    "import numpy as np\n",
    "import matplotlib.pyplot as plt\n",
    "from pylab import rcParams\n",
    "from scipy import ndimage\n",
    "\n",
    "import shapely.geometry as geom\n",
    "import pandas as pd\n",
    "import geopandas as gpd\n",
    "\n",
    "import math\n",
    "import time\n",
    "import pickle\n",
    "from collections import namedtuple\n",
    "\n",
    "\n",
    "%matplotlib inline\n",
    "plt.rcParams[\"figure.figsize\"] = (20,7)"
   ]
  },
  {
   "cell_type": "markdown",
   "metadata": {},
   "source": [
    "## Load from disk"
   ]
  },
  {
   "cell_type": "code",
   "execution_count": 255,
   "metadata": {
    "collapsed": true
   },
   "outputs": [],
   "source": [
    "poses = pickle.load(open(\"poses.df\", 'rb'))\n",
    "arena_d = pickle.load(open(\"arena_d.df\", 'rb'))\n",
    "arena_g = pickle.load(open(\"arena_g.gdf\", 'rb'))\n",
    "\n",
    "# Convert Pandas DataFrame to NumPy array\n",
    "poses_np = np.array(poses.values)"
   ]
  },
  {
   "cell_type": "markdown",
   "metadata": {},
   "source": [
    "## Variables"
   ]
  },
  {
   "cell_type": "code",
   "execution_count": 256,
   "metadata": {
    "collapsed": true
   },
   "outputs": [],
   "source": [
    "Measurement = namedtuple('Measurement', ['sonar', 'IR_L', 'IR_R'])\n",
    "Motion = namedtuple('Motion', ['distance', 'angle'])\n",
    "Pose = namedtuple(\"Pose\", ['x', 'y', 'theta'])"
   ]
  },
  {
   "cell_type": "markdown",
   "metadata": {},
   "source": [
    "## Copy parameters!!!"
   ]
  },
  {
   "cell_type": "code",
   "execution_count": 257,
   "metadata": {
    "collapsed": true
   },
   "outputs": [],
   "source": [
    "# THOSE HAVE TO MATCH EXACTLY PARAM IN MAP\n",
    "\n",
    "RESOLUTION_POS = round(0.1,1)\n",
    "RESOLUTION_ROT = round(30,1) \n",
    "\n",
    "W = 4.25\n",
    "H = 3.2\n",
    "OFFSET = 0.01"
   ]
  },
  {
   "cell_type": "markdown",
   "metadata": {},
   "source": [
    "## Parameters"
   ]
  },
  {
   "cell_type": "code",
   "execution_count": 258,
   "metadata": {
    "collapsed": true
   },
   "outputs": [],
   "source": [
    "SENSORS_VARIANCE = {\n",
    "    'sonar': 0.1,\n",
    "    'IR_L' : 0.4,\n",
    "    'IR_R' : 0.4\n",
    "}\n",
    "\n",
    "# Further than SENSORS_CUTOFF_STD standard deviations from the mean, \n",
    "# we say the sensor readings are improbable for a given pose\n",
    "SENSORS_CUTOFF_STD = 0.7\n",
    "\n",
    "CONFIDENCE_SENSORS = 0.6\n",
    "CONFIDENCE_ODOMETRY = 0.6"
   ]
  },
  {
   "cell_type": "markdown",
   "metadata": {},
   "source": [
    "## Playground"
   ]
  },
  {
   "cell_type": "markdown",
   "metadata": {},
   "source": [
    "### Arena"
   ]
  },
  {
   "cell_type": "code",
   "execution_count": 259,
   "metadata": {
    "collapsed": true
   },
   "outputs": [],
   "source": [
    "# mock_position = geom.Point(0.01, 0.81)\n",
    "# # theta = geom.Point(0, 6)\n",
    "# # mock_circle = geom.Point(0,0).buffer(6, resolution=30)\n",
    "\n",
    "# # scan = geom.LineString((mock_position, theta))\n",
    "# # arena_d.loc[len(arena_d)] = [\"scan\", scan]\n",
    "\n",
    "# arena_d.loc[len(arena_d)] = ['test', mock_position]\n",
    "# arena_g = gpd.GeoDataFrame(arena_d)\n",
    "# arena_g.plot()\n",
    "\n",
    "\n",
    "# # cleat the dataframe\n",
    "# arena_d.drop(arena_d.index[arena_d['type'] == 'test'], inplace=True)\n",
    "# print(arena_g)"
   ]
  },
  {
   "cell_type": "markdown",
   "metadata": {},
   "source": [
    "### Probability"
   ]
  },
  {
   "cell_type": "code",
   "execution_count": 260,
   "metadata": {
    "collapsed": true
   },
   "outputs": [],
   "source": [
    "# sigma = 0.05\n",
    "# mean = 0.5\n",
    "\n",
    "# sigma = 1/sigma\n",
    "\n",
    "# x = np.linspace(0,1,500) # 100 linearly spaced numbers\n",
    "# y = sigma*2.5*(1/(sigma*math.sqrt(2*math.pi))*np.exp( -(1/2*sigma**2)*((x - mean))**2))\n",
    "\n",
    "# a = 0.55\n",
    "# b = sigma*2.5*(1/(sigma*math.sqrt(2*math.pi))*np.exp( -(1/2*sigma**2)*((a - mean))**2))\n",
    "\n",
    "# plt.plot(x,y)\n",
    "# plt.plot(a,b,'co')"
   ]
  },
  {
   "cell_type": "markdown",
   "metadata": {},
   "source": [
    "## Grid Localization"
   ]
  },
  {
   "cell_type": "code",
   "execution_count": 328,
   "metadata": {
    "collapsed": true
   },
   "outputs": [],
   "source": [
    "def _match(sensor, reading, lookup_value):\n",
    "    \"\"\"\n",
    "    Determines if a reading from the sensors matches a value \n",
    "    in the lookup table with some probability.\n",
    "    This is useful to find the exact values of 'x' and 'y' as recorded in the lookup table.\n",
    "    \n",
    "    \"\"\"\n",
    "    SENSORS_CUTOFF_STD = 0.6 \n",
    "    if reading == None:\n",
    "        if math.isnan(lookup_value):\n",
    "            return True\n",
    "        else:\n",
    "            return False\n",
    "    elif sensor == \"sonar\":\n",
    "        SIGMA = SENSORS_VARIANCE['sonar']\n",
    "    elif sensor == \"IR_L\":\n",
    "        SIGMA = SENSORS_VARIANCE['IR_L']\n",
    "    elif sensor == \"IR_R\":\n",
    "        SIGMA = SENSORS_VARIANCE['IR_R']\n",
    "\n",
    "    sigma = 1/SIGMA\n",
    "    mean = lookup_value\n",
    "    x = reading\n",
    "    y = sigma*2.5*(1/(sigma*math.sqrt(2*math.pi))*np.exp( -(1/2*sigma**2)*((x - mean))**2))\n",
    "    if y > SENSORS_CUTOFF_STD:\n",
    "        return True\n",
    "    return False\n",
    "    \n",
    "\n",
    "def _closest(number, divider):\n",
    "    \"\"\"\n",
    "    Returns the closest number to 'number'\n",
    "    divisible without remainder by 'divider'.\n",
    "    \"\"\"\n",
    "    \n",
    "    mod = number % divider        # 28\n",
    "    \n",
    "    low = number - mod            # 90\n",
    "    high = number - mod + divider # 120\n",
    "    if high - number < number - low:\n",
    "        return high\n",
    "    else:\n",
    "        return low\n",
    "    \n",
    "def locate_row_in_table(x, y, theta):\n",
    "    largest_y = poses_np[0][2]\n",
    "    \n",
    "    y_block = (360/RESOLUTION_ROT)*(np.ceil(W/RESOLUTION_POS))*(largest_y-y)/RESOLUTION_POS\n",
    "    x_block = (360/RESOLUTION_ROT)*(x-OFFSET)/RESOLUTION_POS\n",
    "    theta_block = theta/RESOLUTION_ROT\n",
    "    return int(round(y_block + x_block + theta_block))\n",
    "    \n",
    "\n",
    "def localize(poses_np, motion, measurement):\n",
    "    \"\"\"\n",
    "    poses_np    :: a lookup table of possible poses and sensor readings. Columns: open, x, y, theta, sonar, IR_L, IR_R\n",
    "    measurement :: a tuple of readings from (sonar, IR_L, IR_R).\n",
    "    \n",
    "    \"\"\"\n",
    "    \n",
    "    def move_belief():\n",
    "        \"\"\"\n",
    "        Finds posterior probability, given\n",
    "            distance traveled in a straight line ('x' and 'y' chnge), OR \n",
    "            rotation on the spot.\n",
    "        Posterior poses_np = [prior] X [probability after motion model]\n",
    "    \n",
    "        \"\"\"\n",
    "        prob_sum = 0\n",
    "        \n",
    "        for i in range(len(poses_np)): # iterate rows\n",
    "            if poses_np[i][0] == 1: # open space, i.e. not coordinates of an obstacle\n",
    "                theta = poses_np[i][3]\n",
    "                \n",
    "                # determine most likely pose where we were before the movement\n",
    "                delta_x = math.sin((theta + motion.angle) % 360) * motion.distance\n",
    "                delta_y = math.cos((theta + motion.angle) % 360) * motion.distance\n",
    "                \n",
    "                prev_x = _closest(poses_np[i][1] - delta_x, RESOLUTION_POS) + OFFSET\n",
    "                prev_y = _closest(poses_np[i][2] - delta_y, RESOLUTION_POS) + OFFSET\n",
    "                prev_theta = _closest((theta - motion.angle) % 360, RESOLUTION_ROT)\n",
    "                \n",
    "                # unless previous positions is outside the boundaries of the arena\n",
    "                if prev_x > 0 and prev_y > 0: \n",
    "                    row_idx = locate_row_in_table(prev_x, prev_y, prev_theta)\n",
    "\n",
    "                # look up the probability of the previous pose\n",
    "                prev_prob = poses_np[row_idx][7]\n",
    "                \n",
    "                # update the probability of the current pose accordingly\n",
    "                poses_np[i][7] = CONFIDENCE_ODOMETRY * poses_np[i][7] + (1-CONFIDENCE_ODOMETRY) * prev_prob\n",
    "                \n",
    "                # update running tally\n",
    "                prob_sum += poses_np[i][7]\n",
    "        \n",
    "        # normalize--> total probability theory\n",
    "        poses_np[i,7] = poses_np[i,7] / prob_sum\n",
    "        \n",
    "    def sense_belief():\n",
    "        \"\"\"\n",
    "        Finds posterior = [prior] X [probability after measurement]\n",
    "        \n",
    "        \"\"\"\n",
    "\n",
    "        prob_sum = 0\n",
    "        \n",
    "        for i in range(len(poses_np)): # iterate rows\n",
    "            if poses_np[i][0] == 1: # of open space, i.e. not coordinates of an obstacle\n",
    "                match_all = False\n",
    "                if _match('sonar',  measurement.sonar,  poses_np[i][4]):\n",
    "                    if _match('IR_L',  measurement.IR_L,  poses_np[i][5]):\n",
    "                        if _match('IR_R',  measurement.IR_R,  poses_np[i][6]):\n",
    "                            match_all = True\n",
    "                \n",
    "                poses_np[i][7] = (poses_np[i][7] * (match_all * CONFIDENCE_SENSORS + (1-match_all) * (1.0-CONFIDENCE_SENSORS)))\n",
    "                prob_sum += poses_np[i][7]\n",
    "        \n",
    "        # normalize--> total probability theory\n",
    "        poses_np[i,7] = poses_np[i,7] / prob_sum\n",
    "    \n",
    "    sense_belief()\n",
    "    move_belief()\n",
    "    return poses_np"
   ]
  },
  {
   "cell_type": "markdown",
   "metadata": {},
   "source": [
    "## Heatmap"
   ]
  },
  {
   "cell_type": "code",
   "execution_count": 329,
   "metadata": {
    "collapsed": true
   },
   "outputs": [],
   "source": [
    "def heatmap(poses_np):\n",
    "    \"\"\"\n",
    "    The heatmap relies on the following sorting of the array:\n",
    "    'y' descending (primary sort)\n",
    "    'x' ascending (secondary sort)\n",
    "    'theta' ascending (tertiary sort)\n",
    "    \n",
    "    \"\"\"\n",
    "    \n",
    "    plt.rcParams[\"figure.figsize\"] = (10,5)\n",
    "    heatmap = []\n",
    "    y = poses_np[0][2]\n",
    "    row = []\n",
    "                \n",
    "    # iterate through lookup table\n",
    "    for i in range(len(poses_np)): \n",
    "        # True while we're moving horizontally to the right – x increases, y stays constant\n",
    "        if y == poses_np[i][2]:\n",
    "            if poses_np[i][3] == 0:  # if theta == 0\n",
    "                row.append(poses_np[i][7]) # append probability\n",
    "            else:\n",
    "            # theta is some rotation, we're at same square still\n",
    "                row[-1] += poses_np[i][7] # saturate probability here \n",
    "        # y changes – we're one row lower\n",
    "        else:\n",
    "            heatmap.append(row)\n",
    "            row = []\n",
    "            y = poses_np[i][2]\n",
    "            row.append(poses_np[i][7])\n",
    "\n",
    "    # Make plot with vertical (default) colorbar\n",
    "    fig, ax = plt.subplots()\n",
    "\n",
    "    cax = ax.imshow(heatmap, interpolation='nearest', cmap=plt.cm.coolwarm)\n",
    "    ax.set_title('Probabalistic location')\n",
    "\n",
    "    # Add colorbar, make sure to specify tick locations to match desired ticklabels\n",
    "    cbar = fig.colorbar(cax, ticks=[-1, 0, 1])\n",
    "    cbar.ax.set_yticklabels(['< -1', '0', '> 1'])  # vertically oriented colorbar\n",
    "    \n",
    "    plt.show()"
   ]
  },
  {
   "cell_type": "markdown",
   "metadata": {},
   "source": [
    "# Run"
   ]
  },
  {
   "cell_type": "code",
   "execution_count": 331,
   "metadata": {
    "collapsed": true
   },
   "outputs": [],
   "source": [
    "def refresh(poses_np):\n",
    "    \"\"\" \n",
    "    Takes all rows where 0-indexed column 1 one,\n",
    "    and change 7-indexed column to the prior probability.\n",
    "    \n",
    "    \"\"\"\n",
    "    prob = 1.0 / len(poses_np[:,0])\n",
    "    poses_np[poses_np[:, 0] == 1, 7] = prob\n",
    "    return poses_np\n",
    "\n",
    "def run(poses_np, motions, measurements):\n",
    "    for i in range(len(measurements)):\n",
    "        poses_np = localize(poses_np, motions[i], measurements[i]) \n",
    "        heatmap(poses_np)\n",
    "    return poses_np"
   ]
  },
  {
   "cell_type": "code",
   "execution_count": 332,
   "metadata": {
    "collapsed": true
   },
   "outputs": [],
   "source": [
    "measurements = [Measurement(0.9, 0.2, 0.2),\n",
    "                Measurement(0.8, 0.2, 0.3),\n",
    "                Measurement(0.7, 0.2, 0.3),\n",
    "                Measurement(0.6, 0.2, 0.3),\n",
    "                Measurement(0.5, 0.2, 0.3),\n",
    "               ]\n",
    "\n",
    "motions      = [Motion(0.1, 0),\n",
    "                Motion(0.1, 0),\n",
    "                Motion(0.1, 0),\n",
    "                Motion(0.1, 0),\n",
    "                Motion(0.1, 0),\n",
    "               ]"
   ]
  },
  {
   "cell_type": "code",
   "execution_count": 333,
   "metadata": {},
   "outputs": [
    {
     "data": {
      "image/png": "[encoded data removed]",
      "text/plain": [
       "<matplotlib.figure.Figure at 0x1819b77470>"
      ]
     },
     "metadata": {},
     "output_type": "display_data"
    },
    {
     "data": {
      "image/png": "[encoded data removed]",
      "text/plain": [
       "<matplotlib.figure.Figure at 0x1819b10898>"
      ]
     },
     "metadata": {},
     "output_type": "display_data"
    },
    {
     "data": {
      "image/png": "[encoded data removed]",
      "text/plain": [
       "<matplotlib.figure.Figure at 0x10ddf5be0>"
      ]
     },
     "metadata": {},
     "output_type": "display_data"
    },
    {
     "data": {
      "image/png": "[encoded data removed]",
      "text/plain": [
       "<matplotlib.figure.Figure at 0x1818f6bd68>"
      ]
     },
     "metadata": {},
     "output_type": "display_data"
    },
    {
     "data": {
      "image/png": "[encoded data removed]",
      "text/plain": [
       "<matplotlib.figure.Figure at 0x104666dd8>"
      ]
     },
     "metadata": {},
     "output_type": "display_data"
    },
    {
     "data": {
      "text/plain": [
       "4.021607875823975"
      ]
     },
     "execution_count": 333,
     "metadata": {},
     "output_type": "execute_result"
    }
   ],
   "source": [
    "t1 = time.time()\n",
    "# refresh\n",
    "poses_np = refresh(poses_np)\n",
    "# GO!\n",
    "poses_np = run(poses_np, motions, measurements)\n",
    "t2 = time.time()\n",
    "\n",
    "t2-t1"
   ]
  },
  {
   "cell_type": "code",
   "execution_count": 309,
   "metadata": {
    "collapsed": true
   },
   "outputs": [],
   "source": [
    "# 0.0005691051483154297"
   ]
  },
  {
   "cell_type": "code",
   "execution_count": 211,
   "metadata": {
    "collapsed": true
   },
   "outputs": [],
   "source": [
    "# MUST-DOS\n",
    "# find sensible sigma\n",
    "# IR adjust for different variance furhter out\n",
    "# implement IR\n",
    "# cut off high readings beyond sensor's reach\n",
    "# maybe change to Log sum? Underflow problem\n",
    "# plot on heatmat most likely pose + draw lines which show likely orientations\n",
    "\n",
    "# SIMULATE\n",
    "\n",
    "# EXTRAS\n",
    "# plot orientation on the map somehow\n",
    "# draw most likely location\n",
    "# posterior() returning a probability? instead of True / False?"
   ]
  },
  {
   "cell_type": "code",
   "execution_count": null,
   "metadata": {},
   "outputs": [],
   "source": []
  },
  {
   "cell_type": "code",
   "execution_count": null,
   "metadata": {},
   "outputs": [],
   "source": []
  },
  {
   "cell_type": "code",
   "execution_count": 193,
   "metadata": {},
   "outputs": [
    {
     "data": {
      "text/plain": [
       "21.25"
      ]
     },
     "execution_count": 193,
     "metadata": {},
     "output_type": "execute_result"
    }
   ],
   "source": [
    "W/RESOLUTION_POS"
   ]
  },
  {
   "cell_type": "code",
   "execution_count": 197,
   "metadata": {},
   "outputs": [
    {
     "data": {
      "text/plain": [
       "516"
      ]
     },
     "execution_count": 197,
     "metadata": {},
     "output_type": "execute_result"
    }
   ],
   "source": [
    "x = 4.21\n",
    "y = 2.81\n",
    "theta = 0\n",
    "largest_y = poses_np[0][2]\n",
    "int(round((360/RESOLUTION_ROT)*(np.ceil(W/RESOLUTION_POS))*(largest_y-y)/RESOLUTION_POS + (360/RESOLUTION_ROT)*(x-OFFSET)/RESOLUTION_POS + theta/RESOLUTION_ROT))"
   ]
  },
  {
   "cell_type": "code",
   "execution_count": 192,
   "metadata": {},
   "outputs": [
    {
     "name": "stdout",
     "output_type": "stream",
     "text": [
      "4.21\n",
      "2.81\n",
      "0.0\n"
     ]
    }
   ],
   "source": [
    "i = 516\n",
    "print(poses_np[i][1])\n",
    "print(poses_np[i][2])\n",
    "print(poses_np[i][3])"
   ]
  },
  {
   "cell_type": "code",
   "execution_count": null,
   "metadata": {},
   "outputs": [],
   "source": []
  },
  {
   "cell_type": "code",
   "execution_count": null,
   "metadata": {},
   "outputs": [],
   "source": []
  },
  {
   "cell_type": "code",
   "execution_count": null,
   "metadata": {},
   "outputs": [],
   "source": []
  },
  {
   "cell_type": "code",
   "execution_count": null,
   "metadata": {},
   "outputs": [],
   "source": []
  },
  {
   "cell_type": "code",
   "execution_count": null,
   "metadata": {},
   "outputs": [],
   "source": []
  },
  {
   "cell_type": "code",
   "execution_count": null,
   "metadata": {
    "collapsed": true
   },
   "outputs": [],
   "source": []
  }
 ],
 "metadata": {
  "kernelspec": {
   "display_name": "Python 3",
   "language": "python",
   "name": "python3"
  },
  "language_info": {
   "codemirror_mode": {
    "name": "ipython",
    "version": 3
   },
   "file_extension": ".py",
   "mimetype": "text/x-python",
   "name": "python",
   "nbconvert_exporter": "python",
   "pygments_lexer": "ipython3",
   "version": "3.6.3"
  }
 },
 "nbformat": 4,
 "nbformat_minor": 2
}
