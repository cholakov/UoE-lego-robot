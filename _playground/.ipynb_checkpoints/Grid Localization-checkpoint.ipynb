{
 "cells": [
  {
   "cell_type": "markdown",
   "metadata": {},
   "source": [
    "### Libraries"
   ]
  },
  {
   "cell_type": "code",
   "execution_count": 112,
   "metadata": {},
   "outputs": [],
   "source": [
    "import matplotlib.pyplot as plt\n",
    "import matplotlib.pylab as pylab\n",
    "import shapely.geometry as geom\n",
    "import numpy as np\n",
    "import pandas as pd\n",
    "import geopandas as gpd\n",
    "import math\n",
    "import time\n",
    "from collections import namedtuple\n",
    "from scipy import ndimage\n",
    "import pickle\n",
    "\n",
    "%matplotlib inline\n",
    "plt.rcParams[\"figure.figsize\"] = (20,7)"
   ]
  },
  {
   "cell_type": "markdown",
   "metadata": {},
   "source": [
    "## Load from disk"
   ]
  },
  {
   "cell_type": "code",
   "execution_count": 113,
   "metadata": {},
   "outputs": [],
   "source": [
    "poses = pickle.load(open(\"poses.df\", 'rb'))\n",
    "arena_d = pickle.load(open(\"arena_d.df\", 'rb'))\n",
    "arena_d = pickle.load(open(\"arena_g.gdf\", 'rb'))\n",
    "\n",
    "# Convert Pandas DataFrame to NumPy array\n",
    "poses_np = np.array(poses.values)"
   ]
  },
  {
   "cell_type": "markdown",
   "metadata": {},
   "source": [
    "## Variables"
   ]
  },
  {
   "cell_type": "code",
   "execution_count": 114,
   "metadata": {
    "collapsed": true
   },
   "outputs": [],
   "source": [
    "Measurement = namedtuple('Measurement', ['sonar', 'IR_L', 'IR_R'])\n",
    "Pose = namedtuple(\"Pose\", ['x', 'y', 'theta'])"
   ]
  },
  {
   "cell_type": "markdown",
   "metadata": {},
   "source": [
    "## Parameters"
   ]
  },
  {
   "cell_type": "code",
   "execution_count": null,
   "metadata": {
    "collapsed": true
   },
   "outputs": [],
   "source": []
  },
  {
   "cell_type": "markdown",
   "metadata": {},
   "source": [
    "## Generate NumPy array"
   ]
  },
  {
   "cell_type": "code",
   "execution_count": null,
   "metadata": {},
   "outputs": [],
   "source": []
  },
  {
   "cell_type": "markdown",
   "metadata": {},
   "source": [
    "## Playground: testing space"
   ]
  },
  {
   "cell_type": "markdown",
   "metadata": {},
   "source": [
    "### Arena"
   ]
  },
  {
   "cell_type": "code",
   "execution_count": 115,
   "metadata": {
    "collapsed": true
   },
   "outputs": [],
   "source": [
    "# mock_position = geom.Point(0.01, 0.81)\n",
    "# # theta = geom.Point(0, 6)\n",
    "# # mock_circle = geom.Point(0,0).buffer(6, resolution=30)\n",
    "\n",
    "# # scan = geom.LineString((mock_position, theta))\n",
    "# # arena_d.loc[len(arena_d)] = [\"scan\", scan]\n",
    "\n",
    "# arena_d.loc[len(arena_d)] = ['test', mock_position]\n",
    "# arena_g = gpd.GeoDataFrame(arena_d)\n",
    "# arena_g.plot()\n",
    "\n",
    "\n",
    "# # cleat the dataframe\n",
    "# arena_d.drop(arena_d.index[arena_d['type'] == 'test'], inplace=True)\n",
    "# print(arena_g)"
   ]
  },
  {
   "cell_type": "markdown",
   "metadata": {},
   "source": [
    "### Probability"
   ]
  },
  {
   "cell_type": "code",
   "execution_count": 116,
   "metadata": {
    "collapsed": true
   },
   "outputs": [],
   "source": [
    "# sigma = 0.05\n",
    "# mean = 0.5\n",
    "\n",
    "# sigma = 1/sigma\n",
    "\n",
    "# x = np.linspace(0,1,500) # 100 linearly spaced numbers\n",
    "# y = sigma*2.5*(1/(sigma*math.sqrt(2*math.pi))*np.exp( -(1/2*sigma**2)*((x - mean))**2))\n",
    "\n",
    "# a = 0.55\n",
    "# b = sigma*2.5*(1/(sigma*math.sqrt(2*math.pi))*np.exp( -(1/2*sigma**2)*((a - mean))**2))\n",
    "\n",
    "# plt.plot(x,y)\n",
    "# plt.plot(a,b,'co')"
   ]
  },
  {
   "cell_type": "markdown",
   "metadata": {},
   "source": [
    "## Grid Localization"
   ]
  },
  {
   "cell_type": "code",
   "execution_count": 117,
   "metadata": {
    "collapsed": true
   },
   "outputs": [],
   "source": [
    "def _match(sensor, reading, lookup_value):\n",
    "    \"\"\"\n",
    "    Determines if a reading from the sensors matches a value \n",
    "    in the lookup table with some probability.\n",
    "    \n",
    "    \"\"\"\n",
    "    THRESHOLD = 0.6 \n",
    "    if reading == None and lookup_value == None:\n",
    "        return True\n",
    "    elif sensor == \"sonar\":\n",
    "        SIGMA = 0.05\n",
    "    elif sensor == \"IR_L\":\n",
    "        SIGMA = 0.05\n",
    "    elif sensor == \"IR_R\":\n",
    "        SIGMA = 0.05\n",
    "\n",
    "    sigma = 1/SIGMA\n",
    "    mean = lookup_value\n",
    "    x = reading\n",
    "    y = sigma*2.5*(1/(sigma*math.sqrt(2*math.pi))*np.exp( -(1/2*sigma**2)*((x - mean))**2))\n",
    "    if y > THRESHOLD:\n",
    "        return True\n",
    "    return False\n",
    "    \n",
    "def localize(poses_np, measurement):\n",
    "    \"\"\"\n",
    "    poses_np    :: a lookup table of possible poses and sensor readings. Columns: open, x, y, theta, sonar, IR_L, IR_R\n",
    "    measurement :: a tuple of readings from (sonar, IR_L, IR_R).\n",
    "    \n",
    "    \"\"\"\n",
    "    THRESHOLD = 0.8\n",
    "    def posterior():\n",
    "        \"\"\"\n",
    "        Finds posterior = [prior] X [probability after measurement]\n",
    "        \"\"\"\n",
    "        prob_sum = 0\n",
    "        for i in range(len(poses_np)): # iterate rows\n",
    "            if poses_np[i][0] == 1: # of open space, i.e. not coordinates of an obstacle\n",
    "                match_all = False\n",
    "                if _match('sonar',  measurement.sonar,  poses_np[i][4]):\n",
    "                    if _match('IR_L',  measurement.IR_L,  poses_np[i][5]):\n",
    "                        if _match('IR_R',  measurement.IR_R,  poses_np[i][6]):\n",
    "                            match_all = True\n",
    "                poses_np[i][7] = (poses_np[i][7] * (match_all * THRESHOLD + (1-match_all) * (1.0-THRESHOLD)))\n",
    "                prob_sum += poses_np[i][7]\n",
    "\n",
    "        # normalize--> total probability theory\n",
    "        for i in range(len(poses_np)):\n",
    "            if poses_np[i][0] == 1:\n",
    "                poses_np[i][6] = poses_np[i][6] / prob_sum\n",
    "    \n",
    "    posterior()"
   ]
  },
  {
   "cell_type": "markdown",
   "metadata": {},
   "source": [
    "## Heatmap"
   ]
  },
  {
   "cell_type": "code",
   "execution_count": 118,
   "metadata": {},
   "outputs": [],
   "source": [
    "def heatmap(poses_np):\n",
    "    heatmap = []\n",
    "    y = poses_np[0][2]\n",
    "    row = []\n",
    "    for i in range(len(poses_np)):\n",
    "        if poses_np[i][3] == 0:  # if theta == 0\n",
    "            if y == poses_np[i][2]:\n",
    "                row.append(poses_np[i][7])\n",
    "            else:\n",
    "                heatmap.append(row)\n",
    "                row = []\n",
    "                y = poses_np[i][2]\n",
    "                row.append(poses_np[i][7])\n",
    "                \n",
    "                \n",
    "    heatmap = np.array(heatmap)\n",
    "    plt.imshow(heatmap, cmap='hot', interpolation='nearest')\n",
    "    plt.show()    "
   ]
  },
  {
   "cell_type": "markdown",
   "metadata": {},
   "source": [
    "# Run"
   ]
  },
  {
   "cell_type": "markdown",
   "metadata": {},
   "source": [
    "## Simulate movement"
   ]
  },
  {
   "cell_type": "code",
   "execution_count": 121,
   "metadata": {},
   "outputs": [],
   "source": [
    "# try a few sample measurements \n",
    "measurements = [Measurement(0.190000, 0.010000, 3.98), \n",
    "                Measurement(0.219393, 0.011547, 1.200889), \n",
    "                Measurement(0.380000, 0.020000, 2.250448)]\n",
    "\n",
    "for measurement in measurements:\n",
    "    localize(poses_np, measurement)\n",
    "    \n",
    "# print(list(poses_np[:,-1:]))"
   ]
  },
  {
   "cell_type": "markdown",
   "metadata": {},
   "source": [
    "## Draw heatmap"
   ]
  },
  {
   "cell_type": "code",
   "execution_count": 122,
   "metadata": {},
   "outputs": [
    {
     "data": {
      "image/png": "[encoded data removed]",
      "text/plain": [
       "<matplotlib.figure.Figure at 0x1824a1b9e8>"
      ]
     },
     "metadata": {},
     "output_type": "display_data"
    }
   ],
   "source": [
    "heatmap(poses_np)"
   ]
  },
  {
   "cell_type": "code",
   "execution_count": null,
   "metadata": {},
   "outputs": [],
   "source": []
  },
  {
   "cell_type": "code",
   "execution_count": null,
   "metadata": {
    "collapsed": true
   },
   "outputs": [],
   "source": []
  }
 ],
 "metadata": {
  "kernelspec": {
   "display_name": "Python 3",
   "language": "python",
   "name": "python3"
  },
  "language_info": {
   "codemirror_mode": {
    "name": "ipython",
    "version": 3
   },
   "file_extension": ".py",
   "mimetype": "text/x-python",
   "name": "python",
   "nbconvert_exporter": "python",
   "pygments_lexer": "ipython3",
   "version": "3.6.3"
  }
 },
 "nbformat": 4,
 "nbformat_minor": 2
}
