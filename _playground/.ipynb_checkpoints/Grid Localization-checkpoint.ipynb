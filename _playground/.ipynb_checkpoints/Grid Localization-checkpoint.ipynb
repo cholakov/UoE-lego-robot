{
 "cells": [
  {
   "cell_type": "markdown",
   "metadata": {},
   "source": [
    "### Libraries"
   ]
  },
  {
   "cell_type": "code",
   "execution_count": 645,
   "metadata": {
    "collapsed": true
   },
   "outputs": [],
   "source": [
    "import numpy as np\n",
    "import matplotlib.pyplot as plt\n",
    "from pylab import rcParams\n",
    "from scipy import ndimage\n",
    "\n",
    "import shapely.geometry as geom\n",
    "import pandas as pd\n",
    "import geopandas as gpd\n",
    "\n",
    "import math\n",
    "import time\n",
    "import pickle\n",
    "from collections import namedtuple\n",
    "\n",
    "\n",
    "%matplotlib inline\n",
    "plt.rcParams[\"figure.figsize\"] = (20,7)"
   ]
  },
  {
   "cell_type": "markdown",
   "metadata": {},
   "source": [
    "## Load from disk"
   ]
  },
  {
   "cell_type": "code",
   "execution_count": 646,
   "metadata": {
    "collapsed": true
   },
   "outputs": [],
   "source": [
    "poses = pickle.load(open(\"poses.df\", 'rb'))\n",
    "arena_d = pickle.load(open(\"arena_d.df\", 'rb'))\n",
    "arena_g = pickle.load(open(\"arena_g.gdf\", 'rb'))\n",
    "\n",
    "# Convert Pandas DataFrame to NumPy array\n",
    "poses_np = np.array(poses.values)"
   ]
  },
  {
   "cell_type": "markdown",
   "metadata": {},
   "source": [
    "## Variables"
   ]
  },
  {
   "cell_type": "code",
   "execution_count": 647,
   "metadata": {
    "collapsed": true
   },
   "outputs": [],
   "source": [
    "Measurement = namedtuple('Measurement', ['sonar', 'IR_L', 'IR_R'])\n",
    "Pose = namedtuple(\"Pose\", ['x', 'y', 'theta'])"
   ]
  },
  {
   "cell_type": "markdown",
   "metadata": {},
   "source": [
    "## Parameters"
   ]
  },
  {
   "cell_type": "code",
   "execution_count": 680,
   "metadata": {
    "collapsed": true
   },
   "outputs": [],
   "source": [
    "SENSORS_VARIANCE = {\n",
    "    'sonar': 0.1,\n",
    "    'IR_L' : 0.4,\n",
    "    'IR_R' : 0.4\n",
    "}\n",
    "\n",
    "# THOSE HAVE TO MATCH EXACTLY PARAM IN MAP\n",
    "RESOLUTION_POS = 0.1\n",
    "RESOLUTION_ROT = 30\n",
    "\n",
    "# Further than SENSORS_CUTOFF_STD standard deviations from the mean, \n",
    "# we say the sensor readings are improbable for a given pose\n",
    "SENSORS_CUTOFF_STD = 0.7\n",
    "\n",
    "CONFIDENCE_SENSORS = 0.7\n",
    "CONFIDENCE_ODOMETRY = None"
   ]
  },
  {
   "cell_type": "markdown",
   "metadata": {},
   "source": [
    "## Playground"
   ]
  },
  {
   "cell_type": "markdown",
   "metadata": {},
   "source": [
    "### Arena"
   ]
  },
  {
   "cell_type": "code",
   "execution_count": 649,
   "metadata": {
    "collapsed": true
   },
   "outputs": [],
   "source": [
    "# mock_position = geom.Point(0.01, 0.81)\n",
    "# # theta = geom.Point(0, 6)\n",
    "# # mock_circle = geom.Point(0,0).buffer(6, resolution=30)\n",
    "\n",
    "# # scan = geom.LineString((mock_position, theta))\n",
    "# # arena_d.loc[len(arena_d)] = [\"scan\", scan]\n",
    "\n",
    "# arena_d.loc[len(arena_d)] = ['test', mock_position]\n",
    "# arena_g = gpd.GeoDataFrame(arena_d)\n",
    "# arena_g.plot()\n",
    "\n",
    "\n",
    "# # cleat the dataframe\n",
    "# arena_d.drop(arena_d.index[arena_d['type'] == 'test'], inplace=True)\n",
    "# print(arena_g)"
   ]
  },
  {
   "cell_type": "markdown",
   "metadata": {},
   "source": [
    "### Probability"
   ]
  },
  {
   "cell_type": "code",
   "execution_count": 650,
   "metadata": {
    "collapsed": true
   },
   "outputs": [],
   "source": [
    "# sigma = 0.05\n",
    "# mean = 0.5\n",
    "\n",
    "# sigma = 1/sigma\n",
    "\n",
    "# x = np.linspace(0,1,500) # 100 linearly spaced numbers\n",
    "# y = sigma*2.5*(1/(sigma*math.sqrt(2*math.pi))*np.exp( -(1/2*sigma**2)*((x - mean))**2))\n",
    "\n",
    "# a = 0.55\n",
    "# b = sigma*2.5*(1/(sigma*math.sqrt(2*math.pi))*np.exp( -(1/2*sigma**2)*((a - mean))**2))\n",
    "\n",
    "# plt.plot(x,y)\n",
    "# plt.plot(a,b,'co')"
   ]
  },
  {
   "cell_type": "markdown",
   "metadata": {},
   "source": [
    "## Grid Localization"
   ]
  },
  {
   "cell_type": "code",
   "execution_count": 654,
   "metadata": {},
   "outputs": [
    {
     "ename": "IndentationError",
     "evalue": "expected an indented block (<ipython-input-654-e8ec84dc4e5c>, line 51)",
     "output_type": "error",
     "traceback": [
      "\u001b[0;36m  File \u001b[0;32m\"<ipython-input-654-e8ec84dc4e5c>\"\u001b[0;36m, line \u001b[0;32m51\u001b[0m\n\u001b[0;31m    def sense_belief():\u001b[0m\n\u001b[0m    ^\u001b[0m\n\u001b[0;31mIndentationError\u001b[0m\u001b[0;31m:\u001b[0m expected an indented block\n"
     ]
    }
   ],
   "source": [
    "def _match(sensor, reading, lookup_value):\n",
    "    \"\"\"\n",
    "    Determines if a reading from the sensors matches a value \n",
    "    in the lookup table with some probability.\n",
    "    \n",
    "    \"\"\"\n",
    "    SENSORS_CUTOFF_STD = 0.6 \n",
    "    if reading == None:\n",
    "        if math.isnan(lookup_value):\n",
    "            return True\n",
    "        else:\n",
    "            return False\n",
    "    elif sensor == \"sonar\":\n",
    "        SIGMA = SENSORS_VARIANCE['sonar']\n",
    "    elif sensor == \"IR_L\":\n",
    "        SIGMA = SENSORS_VARIANCE['IR_L']\n",
    "    elif sensor == \"IR_R\":\n",
    "        SIGMA = SENSORS_VARIANCE['IR_R']\n",
    "\n",
    "    sigma = 1/SIGMA\n",
    "    mean = lookup_value\n",
    "    x = reading\n",
    "    y = sigma*2.5*(1/(sigma*math.sqrt(2*math.pi))*np.exp( -(1/2*sigma**2)*((x - mean))**2))\n",
    "    if y > SENSORS_CUTOFF_STD:\n",
    "        return True\n",
    "    return False\n",
    "    \n",
    "def localize(poses_np, measurement):\n",
    "    \"\"\"\n",
    "    poses_np    :: a lookup table of possible poses and sensor readings. Columns: open, x, y, theta, sonar, IR_L, IR_R\n",
    "    measurement :: a tuple of readings from (sonar, IR_L, IR_R).\n",
    "    \n",
    "    \"\"\"\n",
    "    \n",
    "    def move_belief(distance, angle):\n",
    "        \"\"\"\n",
    "        Finds posterior probability, given\n",
    "            distance traveled in a straight line ('x' and 'y' chnge), OR \n",
    "            rotation on the spot.\n",
    "        Posterior poses_np = [prior] X [probability after motion model]\n",
    "    \n",
    "        \"\"\"\n",
    "        prob_sum = 0\n",
    "        distance_tolerance = 0.1 # we assume error of 10 cm\n",
    "        theta_tolerance = 5 # we allow tolerance of 5 degrees\n",
    "        \n",
    "        for i in range(len(poses_np)): # iterate rows\n",
    "            if poses_np[i][0] == 1: # of open space, i.e. not coordinates of an obstacle\n",
    "                theta = poses_np[i][3]\n",
    "                delta_x = math.sin((theta + angle) % 360) * distance\n",
    "                delta_y = math.cos((theta + angle) % 360) * distance\n",
    "        \n",
    "                prev_x = poses_np[i][1] - delta_x\n",
    "                prev_y = poses_np[i][2] - delta_y\n",
    "                prev_theta = (theta - angle) % 360\n",
    "                \n",
    "                poses_np[i][7] = CONFIDENCE_ODOMETRY * poses_np[i][7] + (1-CONFIDENCE_ODOMETRY) *\n",
    "                prob_sum += poses_np[i][7]\n",
    "                \n",
    "#                 xx.append(move_right *               p[(i-U[0]) % len(p)] [(j-U[1]) % len(p[0])] +              (1.0-move_right) * p[i][j])\n",
    "        \n",
    "    def sense_belief():\n",
    "        \"\"\"\n",
    "        Finds posterior = [prior] X [probability after measurement]\n",
    "        \n",
    "        \"\"\"\n",
    "        \n",
    "        # DEBUGGING VARIABLES\n",
    "#         count = {\n",
    "#             'sonar': 0,\n",
    "#             'IR_L': 0,\n",
    "#             'IR_R': 0,\n",
    "#             'all': 0,\n",
    "#         }\n",
    "        \n",
    "        # CRITICAL VARIABLES – \n",
    "        # CHANGE ONLY IF YOU KNOW WHAT YOU'RE DOING\n",
    "        prob_sum = 0\n",
    "        \n",
    "        for i in range(len(poses_np)): # iterate rows\n",
    "            if poses_np[i][0] == 1: # of open space, i.e. not coordinates of an obstacle\n",
    "                match_all = False\n",
    "#                 print(str(measurement.IR_R) + \" \" +  str(poses_np[i][6]))\n",
    "                if _match('sonar',  measurement.sonar,  poses_np[i][4]):\n",
    "                    count['sonar'] += 1\n",
    "                    if _match('IR_L',  measurement.IR_L,  poses_np[i][5]):\n",
    "                        count['IR_L'] += 1\n",
    "                        if _match('IR_R',  measurement.IR_R,  poses_np[i][6]):\n",
    "                            count['IR_R'] += 1\n",
    "                            match_all = True\n",
    "                            \n",
    "                poses_np[i][7] = (poses_np[i][7] * (match_all * CONFIDENCE_SENSORS + (1-match_all) * (1.0-CONFIDENCE_SENSORS)))\n",
    "                prob_sum += poses_np[i][7]\n",
    "\n",
    "        print(count)\n",
    "        \n",
    "        # normalize--> total probability theory\n",
    "        for i in range(len(poses_np)):\n",
    "            poses_np[i][7] = poses_np[i][7] / prob_sum\n",
    "    \n",
    "    sense_belief()\n",
    "    return poses_np"
   ]
  },
  {
   "cell_type": "markdown",
   "metadata": {},
   "source": [
    "## Heatmap"
   ]
  },
  {
   "cell_type": "code",
   "execution_count": 655,
   "metadata": {
    "collapsed": true
   },
   "outputs": [],
   "source": [
    "def heatmap(poses_np):\n",
    "    \"\"\"\n",
    "    The heatmap relies on the following sorting of the array:\n",
    "    'y' descending (primary sort)\n",
    "    'x' ascending (secondary sort)\n",
    "    'theta' ascending (tertiary sort)\n",
    "    \n",
    "    \"\"\"\n",
    "    \n",
    "    plt.rcParams[\"figure.figsize\"] = (10,5)\n",
    "    heatmap = []\n",
    "    y = poses_np[0][2]\n",
    "    row = []\n",
    "                \n",
    "    # iterate through lookup table\n",
    "    for i in range(len(poses_np)): \n",
    "        # True while we're moving horizontally to the right – x increases, y stays constant\n",
    "        if y == poses_np[i][2]:\n",
    "            if poses_np[i][3] == 0:  # if theta == 0\n",
    "                row.append(poses_np[i][7]) # append probability\n",
    "            else:\n",
    "            # theta is some rotation, we're at same square still\n",
    "                row[-1] += poses_np[i][7] # saturate probability here \n",
    "        # y changes – we're one row lower\n",
    "        else:\n",
    "            heatmap.append(row)\n",
    "            row = []\n",
    "            y = poses_np[i][2]\n",
    "            row.append(poses_np[i][7])\n",
    "\n",
    "    # Make plot with vertical (default) colorbar\n",
    "    fig, ax = plt.subplots()\n",
    "\n",
    "    cax = ax.imshow(heatmap, interpolation='nearest', cmap=cm.coolwarm)\n",
    "    ax.set_title('Probabalistic location')\n",
    "\n",
    "    # Add colorbar, make sure to specify tick locations to match desired ticklabels\n",
    "    cbar = fig.colorbar(cax, ticks=[-1, 0, 1])\n",
    "    cbar.ax.set_yticklabels(['< -1', '0', '> 1'])  # vertically oriented colorbar\n",
    "    \n",
    "    plt.show()"
   ]
  },
  {
   "cell_type": "markdown",
   "metadata": {},
   "source": [
    "# Run"
   ]
  },
  {
   "cell_type": "code",
   "execution_count": 656,
   "metadata": {
    "collapsed": true
   },
   "outputs": [],
   "source": [
    "def refresh(poses_np):\n",
    "    \"\"\" \n",
    "    Takes all rows where 0-indexed column 1 one,\n",
    "    and change 7-indexed column to the prior probability.\n",
    "    \n",
    "    \"\"\"\n",
    "    prob = 1.0 / len(poses_np[:,0])\n",
    "    poses_np[poses_np[:, 0] == 1, 7] = prob\n",
    "    return poses_np\n",
    "\n",
    "def run(measurements, poses_np):\n",
    "    for measurement in measurements:\n",
    "        poses_np = localize(poses_np, measurement) \n",
    "        heatmap(poses_np)\n",
    "    return poses_np"
   ]
  },
  {
   "cell_type": "code",
   "execution_count": 657,
   "metadata": {
    "collapsed": true
   },
   "outputs": [],
   "source": [
    "measurements = [Measurement(0.8, 0.012310000, 3.98),\n",
    "               Measurement(1, 0.012310000, 3.75),\n",
    "               Measurement(1, 0.012310000, 3.6)]"
   ]
  },
  {
   "cell_type": "code",
   "execution_count": 658,
   "metadata": {},
   "outputs": [
    {
     "name": "stdout",
     "output_type": "stream",
     "text": [
      "{'sonar': 1623, 'IR_L': 72, 'IR_R': 45, 'all': 0}\n"
     ]
    },
    {
     "data": {
      "image/png": "[encoded data removed]",
      "text/plain": [
       "<matplotlib.figure.Figure at 0x1824d61898>"
      ]
     },
     "metadata": {},
     "output_type": "display_data"
    }
   ],
   "source": [
    "measurements = [Measurement(0.2, 0.9, None)]\n",
    "\n",
    "# refresh\n",
    "poses_np = refresh(poses_np)\n",
    "# GO!\n",
    "poses_np = run(measurements, poses_np)"
   ]
  },
  {
   "cell_type": "code",
   "execution_count": 659,
   "metadata": {
    "collapsed": true
   },
   "outputs": [],
   "source": [
    "# poses_np[:,7]"
   ]
  },
  {
   "cell_type": "code",
   "execution_count": 660,
   "metadata": {
    "collapsed": true
   },
   "outputs": [],
   "source": [
    "# MUST-DOS\n",
    "# find sensible sigma\n",
    "# IR adjust for different variance furhter out\n",
    "# implement IR\n",
    "# cut off high readings beyond sensor's reach\n",
    "# maybe change to Log sum? Underflow problem\n",
    "# plot on heatmat most likely pose + draw lines which show likely orientations\n",
    "\n",
    "# SIMULATE\n",
    "\n",
    "# EXTRAS\n",
    "# plot orientation on the map somehow\n",
    "# draw most likely location\n",
    "# posterior() returning a probability? instead of True / False?"
   ]
  },
  {
   "cell_type": "code",
   "execution_count": 652,
   "metadata": {},
   "outputs": [
    {
     "name": "stdout",
     "output_type": "stream",
     "text": [
      "196112016\n"
     ]
    }
   ],
   "source": [
    "k = 0\n",
    "for i in range(len(poses_np)):\n",
    "    for j in range(len(poses_np)):\n",
    "        k += 1\n",
    "        \n",
    "print(k)"
   ]
  },
  {
   "cell_type": "code",
   "execution_count": 678,
   "metadata": {},
   "outputs": [
    {
     "name": "stdout",
     "output_type": "stream",
     "text": [
      "14004\n"
     ]
    }
   ],
   "source": [
    "k = 0\n",
    "for i in range(len(poses_np)):\n",
    "    \n",
    "    k += 1\n",
    "print(k)"
   ]
  },
  {
   "cell_type": "code",
   "execution_count": 676,
   "metadata": {},
   "outputs": [
    {
     "data": {
      "text/plain": [
       "array([[  1.00000000e+00,   2.91000000e+00,   3.11000000e+00,\n",
       "          9.00000000e+01,              nan,   9.00000000e-02,\n",
       "          6.60000000e-01,   7.22752241e-05]])"
      ]
     },
     "execution_count": 676,
     "metadata": {},
     "output_type": "execute_result"
    }
   ],
   "source": []
  },
  {
   "cell_type": "code",
   "execution_count": 679,
   "metadata": {},
   "outputs": [
    {
     "data": {
      "text/plain": [
       "array([[  1.00000000e+00,   2.91000000e+00,   3.11000000e+00,\n",
       "          9.00000000e+01,              nan,   9.00000000e-02,\n",
       "          6.60000000e-01,   7.22752241e-05]])"
      ]
     },
     "execution_count": 679,
     "metadata": {},
     "output_type": "execute_result"
    }
   ],
   "source": [
    "poses_np[np.where((poses_np[:,1] == 2.91) * (poses_np[:,2] == 3.11) * (poses_np[:,3] == 90) )]"
   ]
  },
  {
   "cell_type": "code",
   "execution_count": 683,
   "metadata": {},
   "outputs": [
    {
     "data": {
      "text/plain": [
       "88"
      ]
     },
     "execution_count": 683,
     "metadata": {},
     "output_type": "execute_result"
    }
   ],
   "source": [
    "x = 30\n",
    "int(((88 / x) + 1) * x)"
   ]
  },
  {
   "cell_type": "code",
   "execution_count": null,
   "metadata": {
    "collapsed": true
   },
   "outputs": [],
   "source": [
    "def closestNumber(n, m)\n",
    "    q = n / m\n",
    "    n1 = m * q\n",
    "\n",
    "    if (n * m) > 0\n",
    "        n2 = m * (q + 1)\n",
    "    else\n",
    "        n2 = m * (q - 1)\n",
    "\n",
    "    if abs(n-n1) < abs(n-n2)\n",
    "            return n1\n",
    "        return n2  "
   ]
  },
  {
   "cell_type": "code",
   "execution_count": 686,
   "metadata": {},
   "outputs": [
    {
     "data": {
      "text/plain": [
       "28"
      ]
     },
     "execution_count": 686,
     "metadata": {},
     "output_type": "execute_result"
    }
   ],
   "source": [
    "118 % 30"
   ]
  },
  {
   "cell_type": "code",
   "execution_count": 685,
   "metadata": {},
   "outputs": [
    {
     "data": {
      "text/plain": [
       "2"
      ]
     },
     "execution_count": 685,
     "metadata": {},
     "output_type": "execute_result"
    }
   ],
   "source": [
    "92 % 30"
   ]
  },
  {
   "cell_type": "code",
   "execution_count": 702,
   "metadata": {},
   "outputs": [
    {
     "data": {
      "text/plain": [
       "1.0"
      ]
     },
     "execution_count": 702,
     "metadata": {},
     "output_type": "execute_result"
    }
   ],
   "source": [
    "\n",
    "def closestNumber(number, divider):\n",
    "    \"\"\"\n",
    "    Returns the closest number to 'number'\n",
    "    divisible without remainder by 'divider'.\n",
    "    \"\"\"\n",
    "    \n",
    "    mod = number % divider        # 28\n",
    "    \n",
    "    low = number - mod            # 90\n",
    "    high = number - mod + divider # 120\n",
    "    if high - number < number - low:\n",
    "        return high\n",
    "    else:\n",
    "        return low\n",
    "    \n",
    "\n",
    "closestNumber(0.951, 0.1)"
   ]
  },
  {
   "cell_type": "code",
   "execution_count": null,
   "metadata": {
    "collapsed": true
   },
   "outputs": [],
   "source": []
  }
 ],
 "metadata": {
  "kernelspec": {
   "display_name": "Python 3",
   "language": "python",
   "name": "python3"
  },
  "language_info": {
   "codemirror_mode": {
    "name": "ipython",
    "version": 3
   },
   "file_extension": ".py",
   "mimetype": "text/x-python",
   "name": "python",
   "nbconvert_exporter": "python",
   "pygments_lexer": "ipython3",
   "version": "3.6.3"
  }
 },
 "nbformat": 4,
 "nbformat_minor": 2
}
