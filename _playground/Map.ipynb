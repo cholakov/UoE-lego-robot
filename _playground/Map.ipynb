{
 "cells": [
  {
   "cell_type": "markdown",
   "metadata": {},
   "source": [
    "### Libraries"
   ]
  },
  {
   "cell_type": "code",
   "execution_count": 24,
   "metadata": {
    "collapsed": true
   },
   "outputs": [],
   "source": [
    "import matplotlib.pyplot as plt\n",
    "import matplotlib.pylab as pylab\n",
    "import shapely.geometry as geom\n",
    "import numpy as np\n",
    "import pandas as pd\n",
    "import geopandas as gpd\n",
    "import math\n",
    "import time\n",
    "from collections import namedtuple\n",
    "from scipy import ndimage\n",
    "import pickle\n",
    "\n",
    "%matplotlib inline\n",
    "plt.rcParams[\"figure.figsize\"] = (20,7)"
   ]
  },
  {
   "cell_type": "markdown",
   "metadata": {},
   "source": [
    "### Sources"
   ]
  },
  {
   "cell_type": "code",
   "execution_count": 25,
   "metadata": {
    "collapsed": true
   },
   "outputs": [],
   "source": [
    "# https://stackoverflow.com/questions/30740046/calculate-distance-to-nearest-feature-with-geopandas\n",
    "# https://geohackweek.github.io/vector/04-geopandas-intro/\n",
    "# https://stackoverflow.com/questions/38882233/geopandas-matplotlib-plot-custom-colors"
   ]
  },
  {
   "cell_type": "markdown",
   "metadata": {},
   "source": [
    "### Notes to myself"
   ]
  },
  {
   "cell_type": "code",
   "execution_count": 26,
   "metadata": {
    "collapsed": true
   },
   "outputs": [],
   "source": [
    "# for each discretized square (i.e. current position)\n",
    "# draw cirle centered in the current square\n",
    "# place 180 (user-definable parameter) evenly spaced points on the circumference\n",
    "# define a line segmet between current position and each point on the circumference\n",
    "# find points of intersection of the line segment with: polygons or the walls of the arena\n",
    "# take the nearest point\n",
    "# measure the distance between the nearest point point of intersection and the current position\n",
    "# this should be distance which the sonar and the IR should be measuring (adjusted for noise)"
   ]
  },
  {
   "cell_type": "markdown",
   "metadata": {},
   "source": [
    "## Parameters"
   ]
  },
  {
   "cell_type": "code",
   "execution_count": 34,
   "metadata": {
    "collapsed": true
   },
   "outputs": [],
   "source": [
    "# Define the arena using the upper-case parameters below\n",
    "\n",
    "# The origin of the arena, (0,0) is in the lower left corner \n",
    "# All parameters are in meters \n",
    "\n",
    "W = 4.25\n",
    "H = 3.2 # 3.2 was given by the tutors but not correct\n",
    "\n",
    "# Cutoff values in meters beyond which we're cannot confidently measure sensors' readings\n",
    "CUTOFF = {\n",
    "    \"sonar\" : 0.9,\n",
    "    \"IR\" : 0.7,    \n",
    "}\n",
    "\n",
    "RESOLUTION_POS = 0.1  # write 20 cm as 0.2\n",
    "RESOLUTION_ROT = 30    # write 6 if you want to measure at increments of 6 degrees (60 measurements total)\n",
    "\n",
    "# Location of the docking station\n",
    "BASE = [(3.63,1.55), (4.05,1.55), (3.63,1.25), (4.05,1.25)]\n",
    "\n",
    "HIGHWAYS = {\n",
    "    \"top1\" : [],\n",
    "    \"top2\" : []  \n",
    "}\n",
    "\n",
    "# Each obstacle is represented as a polygon defined by its vertices (x,y)\n",
    "OBSTACLES = {\n",
    "\t\"triangle_low_left\" : ((0,0), (0.6,0), (0,0.7)),\n",
    "\t\"triangle_up_right\" : ((3.8,3.2), (4.25,3.2), (4.25,2.75)),\n",
    "\t\"triangle_center\" : ((1.1,1), (1.9,1), (1.475,1.65)),\n",
    "\t\"long_rectangle\" : ((1.05,2.45),(3.2,2.45),(3.2,2.29),(1.05,2.29)),\n",
    "\t\"low_right_square\" : ((3.2,1.05), (4.25,1.05), (4.25,0), (3.2,0))\n",
    "}\n",
    "\n",
    "WALLS = {\n",
    "\t\"bottom\" : ((0,0),(W,0)),\n",
    "\t\"right\" : ((W,0), (W,H)),\n",
    "\t\"top\" : ((W,H), (0,H)),\n",
    "\t\"left\" : ((0,H), (0,0))\n",
    "}\n",
    "\n",
    "GROUND = ((0,0),(W,0),(W,H),(0,H),(0,0))\n",
    "\n",
    "NUM_POSES = 0 # Number of poses; will be generated later"
   ]
  },
  {
   "cell_type": "markdown",
   "metadata": {},
   "source": [
    "## Variables"
   ]
  },
  {
   "cell_type": "code",
   "execution_count": 35,
   "metadata": {
    "collapsed": true
   },
   "outputs": [],
   "source": [
    "poses = pd.DataFrame(columns=['open', 'x', 'y', 'theta', 'sonar', 'IR_L', 'IR_R'])\n",
    "\n",
    "\n",
    "arena_d = pd.DataFrame(columns=['type', 'geometry']) # DataFrame\n",
    "arena_g = gpd.GeoDataFrame(arena_d) #Geo DataFrame"
   ]
  },
  {
   "cell_type": "markdown",
   "metadata": {},
   "source": [
    "### Draw arena"
   ]
  },
  {
   "cell_type": "code",
   "execution_count": 36,
   "metadata": {
    "scrolled": true
   },
   "outputs": [
    {
     "name": "stdout",
     "output_type": "stream",
     "text": [
      "       type                                           geometry\n",
      "0  obstacle                 POLYGON ((0 0, 0.6 0, 0 0.7, 0 0))\n",
      "1  obstacle  POLYGON ((3.8 3.2, 4.25 3.2, 4.25 2.75, 3.8 3.2))\n",
      "2  obstacle        POLYGON ((1.1 1, 1.9 1, 1.475 1.65, 1.1 1))\n",
      "3  obstacle  POLYGON ((1.05 2.45, 3.2 2.45, 3.2 2.29, 1.05 ...\n",
      "4  obstacle  POLYGON ((3.2 1.05, 4.25 1.05, 4.25 0, 3.2 0, ...\n",
      "5      wall                           LINESTRING (0 0, 4.25 0)\n",
      "6      wall                      LINESTRING (4.25 0, 4.25 3.2)\n",
      "7      wall                       LINESTRING (4.25 3.2, 0 3.2)\n",
      "8      wall                            LINESTRING (0 3.2, 0 0)\n"
     ]
    },
    {
     "data": {
      "text/plain": [
       "<matplotlib.axes._subplots.AxesSubplot at 0x105203e48>"
      ]
     },
     "execution_count": 36,
     "metadata": {},
     "output_type": "execute_result"
    },
    {
     "data": {
      "image/png": "[encoded data removed]",
      "text/plain": [
       "<matplotlib.figure.Figure at 0x181cd1cd30>"
      ]
     },
     "metadata": {},
     "output_type": "display_data"
    }
   ],
   "source": [
    "# Obstacles\n",
    "for polygon in OBSTACLES:\n",
    "    arena_d.loc[len(arena_d)] = [\"obstacle\", geom.Polygon(OBSTACLES[polygon])]\n",
    "\n",
    "# Walls\n",
    "for wall in WALLS:\n",
    "    arena_d.loc[len(arena_d)] = [\"wall\", geom.LineString(WALLS[wall])]\n",
    "\n",
    "print(arena_d)\n",
    "\n",
    "arena_g = gpd.GeoDataFrame(arena_d)\n",
    "arena_g.plot()"
   ]
  },
  {
   "cell_type": "markdown",
   "metadata": {},
   "source": [
    "### Run 360° distance scan\n",
    "\n",
    "Record the distance to nearest obstacle from each discretized square\n",
    "Resolution is defined by the RESOLUTION_ROT parameter"
   ]
  },
  {
   "cell_type": "code",
   "execution_count": null,
   "metadata": {
    "collapsed": true
   },
   "outputs": [],
   "source": [
    "num_squares = 0\n",
    "\n",
    "def emptySpace(position):\n",
    "    \"\"\"\n",
    "    Returns True if a given does NOT overlap with the coordinates of an obstacle.\n",
    "    \"\"\"\n",
    "    # iterate over obstacles\n",
    "    for obj in arena_g.loc[arena_g['type'] == 'obstacle', 'geometry']:\n",
    "        # if square doesn't intersect with an obstacle\n",
    "        if obj.intersects(position):\n",
    "            return False\n",
    "    return True\n",
    "\n",
    "def distanceToNearestObstacles(position, p):\n",
    "    \"\"\"\n",
    "    Returns the distance to the nearest obstacle in meters. \n",
    "    \"\"\"\n",
    "    laser = geom.LineString((position, p))\n",
    "    \n",
    "    nearest = float(\"inf\")\n",
    "    for obj in arena_g.loc[arena_g['type'].isin(['obstacle', 'wall']), 'geometry']:\n",
    "        # find intersections of the laser line segment with obstacles and walls\n",
    "        intersection =  np.array(laser.intersection(obj))\n",
    "        if intersection.shape == (2, 2): # if intersecting a polygon\n",
    "            for i in intersection:\n",
    "                distance = geom.Point(i).distance(position)\n",
    "                if distance < nearest:\n",
    "                    nearest = distance\n",
    "        elif intersection.shape == (2,): # if intersecting another line\n",
    "            distance = geom.Point(intersection).distance(position)\n",
    "            if distance < nearest:\n",
    "                nearest = distance\n",
    "    return nearest\n",
    "    dist_array.append(nearest)\n",
    "    \n",
    "    \n",
    "def PointsInCircum(x=0, y=0, r=6):\n",
    "        \"\"\"\n",
    "        x, y    :: coordinates of center of circle\n",
    "        r       :: circle radius\n",
    "        returns :: CLOCKWISE n coordinates of points which lie on the\n",
    "                   circumference of a circle centered at (x,y)\n",
    "\n",
    "        \"\"\"\n",
    "        # desired num of number of points on the circumference of the circle\n",
    "        n = round(360 / RESOLUTION_ROT)\n",
    "        return [(math.sin(2*math.pi/n*i)*r + x, math.cos(2*math.pi/n*i)*r + y) for i in range(0,n)]\n",
    "    \n",
    "def scan360(position):\n",
    "    measurements = list()\n",
    "    \n",
    "    for p in PointsInCircum(x=position.x, y=position.y):\n",
    "        measurements.append(distanceToNearestObstacles(position, geom.Point(p[0],p[1])))\n",
    "        \n",
    "    return measurements\n"
   ]
  },
  {
   "cell_type": "markdown",
   "metadata": {},
   "source": [
    "### Generate DataFrame with all discretized poses"
   ]
  },
  {
   "cell_type": "code",
   "execution_count": null,
   "metadata": {},
   "outputs": [],
   "source": [
    "# iterate over the arena (represented as discrete squares)\n",
    "\n",
    "t1 = time.time()\n",
    "\n",
    "# drop all rows generated in a previous run of the code\n",
    "poses.drop(poses.index, inplace=True)\n",
    "\n",
    "# iterate squares horizontally, along x-axis\n",
    "for x in np.arange(0.01, W, RESOLUTION_POS):\n",
    "    # iterate squares vertically\n",
    "    for y in np.arange(0.01,H,RESOLUTION_POS):\n",
    "        # we're at the coordinates below\n",
    "        position = geom.Point(x,y) \n",
    "        # if position not a blocked area, e.g. an obstacle\n",
    "        if emptySpace(position):\n",
    "            # take measurements around to nearest obstacles at increments of RESOLUTION_ROT\n",
    "            measurements = scan360(position)\n",
    "            # for each measurement (i.e. for each pose), determine the true reading for each of our 3 sensors\n",
    "            for i, val in enumerate(measurements):\n",
    "                sonar = measurements[int(i % len(measurements))]                \n",
    "                IR_R = measurements[round(i + 0.25 * len(measurements)) % len(measurements)]\n",
    "                IR_L = measurements[round(i + 0.75 * len(measurements)) % len(measurements)]\n",
    "                theta = (i*RESOLUTION_ROT) % 360\n",
    "                poses.loc[len(poses)] = [1, x, y, theta, sonar, IR_L, IR_R]\n",
    "                NUM_POSES += 1\n",
    "        else:\n",
    "            poses.loc[len(poses)] = [0, x, y, 0, 0, 0, 0]\n",
    "                \n",
    "# Initializes prob to a uniform distribution \n",
    "# over a grid of the same dimensions as arena\n",
    "poses['prob'] = pd.Series([0]*len(poses))\n",
    "poses.loc[poses.open == 1, 'prob'] = 1.0/ NUM_POSES\n",
    "\n",
    "t2 = time.time()\n",
    "print('DataFrame generated in ' + str(t2-t1) + ' seconds.')"
   ]
  },
  {
   "cell_type": "markdown",
   "metadata": {},
   "source": [
    "#### Inspect table – does it look sensible?"
   ]
  },
  {
   "cell_type": "code",
   "execution_count": null,
   "metadata": {},
   "outputs": [],
   "source": [
    "poses.sort_values(['y', 'x', 'theta'], ascending=[False, True, True], inplace=True)\n",
    "\n",
    "poses[poses[\"x\"].isin([0.01]) & poses['y'].isin([0.81])]\n",
    "poses[poses['theta'].isin([0])]\n",
    "poses[poses['sonar'].between(1,1.1) & poses['theta'].isin([0])]\n",
    "poses[poses['sonar'].between(0.1,0.3) & poses['theta'].isin([90])]"
   ]
  },
  {
   "cell_type": "markdown",
   "metadata": {},
   "source": [
    "### Save map to disk"
   ]
  },
  {
   "cell_type": "code",
   "execution_count": null,
   "metadata": {
    "collapsed": true
   },
   "outputs": [],
   "source": [
    "pickle.dump(poses, open(\"poses.df\", 'wb'))\n",
    "pickle.dump(arena_d, open(\"arena_d.df\", 'wb'))\n",
    "pickle.dump(arena_g, open(\"arena_g.gdf\", 'wb'))"
   ]
  }
 ],
 "metadata": {
  "kernelspec": {
   "display_name": "Python 3",
   "language": "python",
   "name": "python3"
  },
  "language_info": {
   "codemirror_mode": {
    "name": "ipython",
    "version": 3
   },
   "file_extension": ".py",
   "mimetype": "text/x-python",
   "name": "python",
   "nbconvert_exporter": "python",
   "pygments_lexer": "ipython3",
   "version": "3.6.3"
  }
 },
 "nbformat": 4,
 "nbformat_minor": 2
}
