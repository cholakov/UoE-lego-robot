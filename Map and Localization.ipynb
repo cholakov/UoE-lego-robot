{
 "cells": [
  {
   "cell_type": "code",
   "execution_count": 58,
   "metadata": {
    "collapsed": true
   },
   "outputs": [],
   "source": [
    "import matplotlib.pyplot as plt\n",
    "import shapely.geometry as geom\n",
    "import numpy as np\n",
    "import pandas as pd\n",
    "import geopandas as gpd\n",
    "\n",
    "%matplotlib inline\n",
    "plt.rcParams[\"figure.figsize\"] = (20,7)"
   ]
  },
  {
   "cell_type": "code",
   "execution_count": 141,
   "metadata": {
    "collapsed": true
   },
   "outputs": [],
   "source": [
    "# https://stackoverflow.com/questions/30740046/calculate-distance-to-nearest-feature-with-geopandas\n",
    "# https://geohackweek.github.io/vector/04-geopandas-intro/\n",
    "# https://stackoverflow.com/questions/38882233/geopandas-matplotlib-plot-custom-colors"
   ]
  },
  {
   "cell_type": "code",
   "execution_count": 4,
   "metadata": {
    "collapsed": true
   },
   "outputs": [],
   "source": [
    "# for each discretized square (i.e. current position)\n",
    "# draw cirle centered in the current square\n",
    "# place 180 (user-definable parameter) evenly spaced points on the circumference\n",
    "# define a line segmet between current position and each point on the circumference\n",
    "# find points of intersection of the line segment with: polygons or the walls of the arena\n",
    "# take the nearest point\n",
    "# measure the distance between the nearest point point of intersection and the current position\n",
    "# this should be distance which the sonar and the IR should be measuring (adjusted for noise)"
   ]
  },
  {
   "cell_type": "markdown",
   "metadata": {},
   "source": [
    "### Parameters"
   ]
  },
  {
   "cell_type": "code",
   "execution_count": 174,
   "metadata": {
    "collapsed": true
   },
   "outputs": [],
   "source": [
    "# Define the arena using the upper-case parameters below\n",
    "\n",
    "# The origin of the arena, (0,0) is in the lower left corner \n",
    "# All parametersare in meters \n",
    "\n",
    "\n",
    "\n",
    "# Those were given but not correct\n",
    "# W = 4.25\n",
    "# H = 3.2\n",
    "\n",
    "W = 4.25\n",
    "H = 3.4\n",
    "\n",
    "RESOLUTION = 0.1 # that is 10 cm\n",
    "RESOLUTION = 0.4 # that is 80 cm\n",
    "\n",
    "# Location of the docking station\n",
    "BASE = [(3.63,1.55), (4.05,1.55), (3.63,1.25), (4.05,1.25)]\n",
    "\n",
    "HIGHWAYS = {\n",
    "    \"top1\" : [],\n",
    "    \"top2\" : []  \n",
    "}\n",
    "\n",
    "# Each obstacle is represented by its vertices (x,y)\n",
    "\n",
    "OBSTACLES = {\n",
    "\t\"triangle_low_left\" : ((0,0), (0.6,0), (0,0.7)),\n",
    "\t\"triangle_up_right\" : ((3.8,3.4), (4.25,3.4), (4.25,2.9)),\n",
    "\t\"triangle_center\" : ((1.1,1), (1.9,1), (1.475,1.65)),\n",
    "\t\"long_rectangle\" : ((1.05,2.45),(3.2,2.45),(3.2,2.29),(1.05,2.29)),\n",
    "\t\"low_right_square\" : ((3.2,1.05), (4.25,1.05), (4.25,0), (3.2,0))\n",
    "}\n",
    "\n",
    "WALLS = {\n",
    "\t\"bottom\" : ((0,0),(W,0)),\n",
    "\t\"right\" : ((W,0), (W,H)),\n",
    "\t\"top\" : ((W,H), (0,H)),\n",
    "\t\"left\" : ((0,H), (0,0))\n",
    "}\n",
    "\n",
    "GROUND = ((0,0),(W,0),(W,H),(0,H),(0,0))\n"
   ]
  },
  {
   "cell_type": "code",
   "execution_count": 175,
   "metadata": {},
   "outputs": [
    {
     "name": "stdout",
     "output_type": "stream",
     "text": [
      "               type                                           geometry\n",
      "0          obstacle                 POLYGON ((0 0, 0.6 0, 0 0.7, 0 0))\n",
      "1          obstacle   POLYGON ((3.8 3.4, 4.25 3.4, 4.25 2.9, 3.8 3.4))\n",
      "2          obstacle        POLYGON ((1.1 1, 1.9 1, 1.475 1.65, 1.1 1))\n",
      "3          obstacle  POLYGON ((1.05 2.45, 3.2 2.45, 3.2 2.29, 1.05 ...\n",
      "4          obstacle  POLYGON ((3.2 1.05, 4.25 1.05, 4.25 0, 3.2 0, ...\n",
      "5              wall                           LINESTRING (0 0, 4.25 0)\n",
      "6              wall                      LINESTRING (4.25 0, 4.25 3.4)\n",
      "7              wall                       LINESTRING (4.25 3.4, 0 3.4)\n",
      "8              wall                            LINESTRING (0 3.4, 0 0)\n",
      "9  current location                                        POINT (0 0)\n"
     ]
    },
    {
     "data": {
      "text/plain": [
       "<matplotlib.axes._subplots.AxesSubplot at 0x11b93be80>"
      ]
     },
     "execution_count": 175,
     "metadata": {},
     "output_type": "execute_result"
    },
    {
     "data": {
      "image/png": "[encoded data removed]",
      "text/plain": [
       "<matplotlib.figure.Figure at 0x11b56a9b0>"
      ]
     },
     "metadata": {},
     "output_type": "display_data"
    }
   ],
   "source": [
    "# arena_d Dataframe\n",
    "# arena_g Geo DataFrame\n",
    "\n",
    "arena_d = pd.DataFrame(columns=['type', 'geometry'])\n",
    "\n",
    "# Obstacles\n",
    "for polygon in OBSTACLES:\n",
    "    arena_d.loc[len(arena_d)] = [\"obstacle\", geom.Polygon(OBSTACLES[polygon])]\n",
    "\n",
    "# Walls\n",
    "for wall in WALLS:\n",
    "    arena_d.loc[len(arena_d)] = [\"wall\", geom.LineString(WALLS[wall])]\n",
    "\n",
    "arena_d.loc[len(arena_d)] = [\"current location\", geom.Point(0,0)]\n",
    "print(arena_d)\n",
    "\n",
    "arena_g = gpd.GeoDataFrame(arena_d)\n",
    "\n",
    "arena_g.plot()"
   ]
  },
  {
   "cell_type": "code",
   "execution_count": 212,
   "metadata": {},
   "outputs": [],
   "source": [
    "# # Draw a circle of radius 6 meters, defined by approx. 180 discrete points\n",
    "# circle = geom.Point(0,0).buffer(6, resolution=45)\n",
    "# # print(len(geom.mapping(point)['coordinates'][0]))\n",
    "\n",
    "# # for each point on the circumference of the circle\n",
    "# for p in geom.mapping(circle)['coordinates'][0]:\n",
    "#     geom.LineString(((0,0), p))\n",
    "    \n",
    "# scan = geom.LineString(((2,2), (4.014783638153087, 3.458868952864421)))  \n",
    "\n",
    "# closest = float(\"inf\")\n",
    "# for obj in arena_g.loc[arena_g['type'].isin(['obstacle', 'wall']), 'geometry']:\n",
    "#     # find intersections of the laser scan with obstacles and walls\n",
    "#     intersection =  np.array(scan.intersection(obj))\n",
    "#     if intersection.shape == (2, 2): # if intersecting a polygon\n",
    "#         for i in intersection:\n",
    "#             distance = geom.Point(i).distance(geom.Point(2,2))\n",
    "#             if distance < closest:\n",
    "#                 closest = distance\n",
    "#     elif intersection.shape == (2,): # if intersecting another line\n",
    "#         distance = geom.Point(intersection).distance(geom.Point(2,2))\n",
    "#         if distance < closest:\n",
    "#             closest = distance\n",
    "# print(closest)\n",
    "    \n",
    "\n",
    "# arena_d.loc[len(arena_d)] = [\"scan\", scan]\n",
    "# arena_g = gpd.GeoDataFrame(arena_d)\n",
    "# arena_g.plot()"
   ]
  },
  {
   "cell_type": "markdown",
   "metadata": {},
   "source": [
    "### Take measurements (in 360 scans)"
   ]
  },
  {
   "cell_type": "code",
   "execution_count": 219,
   "metadata": {},
   "outputs": [
    {
     "ename": "KeyboardInterrupt",
     "evalue": "",
     "output_type": "error",
     "traceback": [
      "\u001b[0;31m--------------------------------------------------------------------\u001b[0m",
      "\u001b[0;31mKeyboardInterrupt\u001b[0m                  Traceback (most recent call last)",
      "\u001b[0;32m<ipython-input-219-b0faf2446990>\u001b[0m in \u001b[0;36m<module>\u001b[0;34m()\u001b[0m\n\u001b[1;32m     53\u001b[0m         \u001b[0mposition\u001b[0m \u001b[0;34m=\u001b[0m \u001b[0mgeom\u001b[0m\u001b[0;34m.\u001b[0m\u001b[0mPoint\u001b[0m\u001b[0;34m(\u001b[0m\u001b[0mx\u001b[0m\u001b[0;34m,\u001b[0m\u001b[0my\u001b[0m\u001b[0;34m)\u001b[0m \u001b[0;31m# we're here\u001b[0m\u001b[0;34m\u001b[0m\u001b[0m\n\u001b[1;32m     54\u001b[0m         \u001b[0;32mif\u001b[0m \u001b[0memptySpace\u001b[0m\u001b[0;34m(\u001b[0m\u001b[0mposition\u001b[0m\u001b[0;34m)\u001b[0m\u001b[0;34m:\u001b[0m   \u001b[0;31m# if position not on a blocked area, e.g. an obstacle\u001b[0m\u001b[0;34m\u001b[0m\u001b[0m\n\u001b[0;32m---> 55\u001b[0;31m             \u001b[0mmeasurements\u001b[0m \u001b[0;34m=\u001b[0m \u001b[0mscan360\u001b[0m\u001b[0;34m(\u001b[0m\u001b[0mposition\u001b[0m\u001b[0;34m)\u001b[0m\u001b[0;34m\u001b[0m\u001b[0m\n\u001b[0m",
      "\u001b[0;32m<ipython-input-219-b0faf2446990>\u001b[0m in \u001b[0;36mscan360\u001b[0;34m(position)\u001b[0m\n\u001b[1;32m     42\u001b[0m     \u001b[0;31m# draw a line segment (called laser) from current position to that point\u001b[0m\u001b[0;34m\u001b[0m\u001b[0;34m\u001b[0m\u001b[0m\n\u001b[1;32m     43\u001b[0m     \u001b[0;32mfor\u001b[0m \u001b[0mp\u001b[0m \u001b[0;32min\u001b[0m \u001b[0mgeom\u001b[0m\u001b[0;34m.\u001b[0m\u001b[0mmapping\u001b[0m\u001b[0;34m(\u001b[0m\u001b[0mcircle\u001b[0m\u001b[0;34m)\u001b[0m\u001b[0;34m[\u001b[0m\u001b[0;34m'coordinates'\u001b[0m\u001b[0;34m]\u001b[0m\u001b[0;34m[\u001b[0m\u001b[0;36m0\u001b[0m\u001b[0;34m]\u001b[0m\u001b[0;34m:\u001b[0m\u001b[0;34m\u001b[0m\u001b[0m\n\u001b[0;32m---> 44\u001b[0;31m         \u001b[0mdist_array\u001b[0m\u001b[0;34m.\u001b[0m\u001b[0mappend\u001b[0m\u001b[0;34m(\u001b[0m\u001b[0mnearestObstacles\u001b[0m\u001b[0;34m(\u001b[0m\u001b[0mposition\u001b[0m\u001b[0;34m,\u001b[0m \u001b[0mp\u001b[0m\u001b[0;34m)\u001b[0m\u001b[0;34m)\u001b[0m\u001b[0;34m\u001b[0m\u001b[0m\n\u001b[0m\u001b[1;32m     45\u001b[0m \u001b[0;34m\u001b[0m\u001b[0m\n\u001b[1;32m     46\u001b[0m     \u001b[0;32mreturn\u001b[0m \u001b[0mdist_array\u001b[0m\u001b[0;34m\u001b[0m\u001b[0m\n",
      "\u001b[0;32m<ipython-input-219-b0faf2446990>\u001b[0m in \u001b[0;36mnearestObstacles\u001b[0;34m(position, p)\u001b[0m\n\u001b[1;32m     18\u001b[0m     \u001b[0;32mfor\u001b[0m \u001b[0mobj\u001b[0m \u001b[0;32min\u001b[0m \u001b[0marena_g\u001b[0m\u001b[0;34m.\u001b[0m\u001b[0mloc\u001b[0m\u001b[0;34m[\u001b[0m\u001b[0marena_g\u001b[0m\u001b[0;34m[\u001b[0m\u001b[0;34m'type'\u001b[0m\u001b[0;34m]\u001b[0m\u001b[0;34m.\u001b[0m\u001b[0misin\u001b[0m\u001b[0;34m(\u001b[0m\u001b[0;34m[\u001b[0m\u001b[0;34m'obstacle'\u001b[0m\u001b[0;34m,\u001b[0m \u001b[0;34m'wall'\u001b[0m\u001b[0;34m]\u001b[0m\u001b[0;34m)\u001b[0m\u001b[0;34m,\u001b[0m \u001b[0;34m'geometry'\u001b[0m\u001b[0;34m]\u001b[0m\u001b[0;34m:\u001b[0m\u001b[0;34m\u001b[0m\u001b[0m\n\u001b[1;32m     19\u001b[0m         \u001b[0;31m# find intersections of the laser line segment with obstacles and walls\u001b[0m\u001b[0;34m\u001b[0m\u001b[0;34m\u001b[0m\u001b[0m\n\u001b[0;32m---> 20\u001b[0;31m         \u001b[0mintersection\u001b[0m \u001b[0;34m=\u001b[0m  \u001b[0mnp\u001b[0m\u001b[0;34m.\u001b[0m\u001b[0marray\u001b[0m\u001b[0;34m(\u001b[0m\u001b[0mlaser\u001b[0m\u001b[0;34m.\u001b[0m\u001b[0mintersection\u001b[0m\u001b[0;34m(\u001b[0m\u001b[0mobj\u001b[0m\u001b[0;34m)\u001b[0m\u001b[0;34m)\u001b[0m\u001b[0;34m\u001b[0m\u001b[0m\n\u001b[0m\u001b[1;32m     21\u001b[0m         \u001b[0;32mif\u001b[0m \u001b[0mintersection\u001b[0m\u001b[0;34m.\u001b[0m\u001b[0mshape\u001b[0m \u001b[0;34m==\u001b[0m \u001b[0;34m(\u001b[0m\u001b[0;36m2\u001b[0m\u001b[0;34m,\u001b[0m \u001b[0;36m2\u001b[0m\u001b[0;34m)\u001b[0m\u001b[0;34m:\u001b[0m \u001b[0;31m# if intersecting a polygon\u001b[0m\u001b[0;34m\u001b[0m\u001b[0m\n\u001b[1;32m     22\u001b[0m             \u001b[0;32mfor\u001b[0m \u001b[0mi\u001b[0m \u001b[0;32min\u001b[0m \u001b[0mintersection\u001b[0m\u001b[0;34m:\u001b[0m\u001b[0;34m\u001b[0m\u001b[0m\n",
      "\u001b[0;32m~/anaconda3/envs/jupyter/lib/python3.6/site-packages/shapely/geometry/base.py\u001b[0m in \u001b[0;36mintersection\u001b[0;34m(self, other)\u001b[0m\n\u001b[1;32m    618\u001b[0m     \u001b[0;32mdef\u001b[0m \u001b[0mintersection\u001b[0m\u001b[0;34m(\u001b[0m\u001b[0mself\u001b[0m\u001b[0;34m,\u001b[0m \u001b[0mother\u001b[0m\u001b[0;34m)\u001b[0m\u001b[0;34m:\u001b[0m\u001b[0;34m\u001b[0m\u001b[0m\n\u001b[1;32m    619\u001b[0m         \u001b[0;34m\"\"\"Returns the intersection of the geometries\"\"\"\u001b[0m\u001b[0;34m\u001b[0m\u001b[0m\n\u001b[0;32m--> 620\u001b[0;31m         \u001b[0;32mreturn\u001b[0m \u001b[0mgeom_factory\u001b[0m\u001b[0;34m(\u001b[0m\u001b[0mself\u001b[0m\u001b[0;34m.\u001b[0m\u001b[0mimpl\u001b[0m\u001b[0;34m[\u001b[0m\u001b[0;34m'intersection'\u001b[0m\u001b[0;34m]\u001b[0m\u001b[0;34m(\u001b[0m\u001b[0mself\u001b[0m\u001b[0;34m,\u001b[0m \u001b[0mother\u001b[0m\u001b[0;34m)\u001b[0m\u001b[0;34m)\u001b[0m\u001b[0;34m\u001b[0m\u001b[0m\n\u001b[0m\u001b[1;32m    621\u001b[0m \u001b[0;34m\u001b[0m\u001b[0m\n\u001b[1;32m    622\u001b[0m     \u001b[0;32mdef\u001b[0m \u001b[0msymmetric_difference\u001b[0m\u001b[0;34m(\u001b[0m\u001b[0mself\u001b[0m\u001b[0;34m,\u001b[0m \u001b[0mother\u001b[0m\u001b[0;34m)\u001b[0m\u001b[0;34m:\u001b[0m\u001b[0;34m\u001b[0m\u001b[0m\n",
      "\u001b[0;32m~/anaconda3/envs/jupyter/lib/python3.6/site-packages/shapely/topology.py\u001b[0m in \u001b[0;36m__call__\u001b[0;34m(self, this, other, *args)\u001b[0m\n\u001b[1;32m     64\u001b[0m         \u001b[0mself\u001b[0m\u001b[0;34m.\u001b[0m\u001b[0m_validate\u001b[0m\u001b[0;34m(\u001b[0m\u001b[0mthis\u001b[0m\u001b[0;34m)\u001b[0m\u001b[0;34m\u001b[0m\u001b[0m\n\u001b[1;32m     65\u001b[0m         \u001b[0mself\u001b[0m\u001b[0;34m.\u001b[0m\u001b[0m_validate\u001b[0m\u001b[0;34m(\u001b[0m\u001b[0mother\u001b[0m\u001b[0;34m,\u001b[0m \u001b[0mstop_prepared\u001b[0m\u001b[0;34m=\u001b[0m\u001b[0;32mTrue\u001b[0m\u001b[0;34m)\u001b[0m\u001b[0;34m\u001b[0m\u001b[0m\n\u001b[0;32m---> 66\u001b[0;31m         \u001b[0mproduct\u001b[0m \u001b[0;34m=\u001b[0m \u001b[0mself\u001b[0m\u001b[0;34m.\u001b[0m\u001b[0mfn\u001b[0m\u001b[0;34m(\u001b[0m\u001b[0mthis\u001b[0m\u001b[0;34m.\u001b[0m\u001b[0m_geom\u001b[0m\u001b[0;34m,\u001b[0m \u001b[0mother\u001b[0m\u001b[0;34m.\u001b[0m\u001b[0m_geom\u001b[0m\u001b[0;34m,\u001b[0m \u001b[0;34m*\u001b[0m\u001b[0margs\u001b[0m\u001b[0;34m)\u001b[0m\u001b[0;34m\u001b[0m\u001b[0m\n\u001b[0m\u001b[1;32m     67\u001b[0m         \u001b[0;32mif\u001b[0m \u001b[0mproduct\u001b[0m \u001b[0;32mis\u001b[0m \u001b[0;32mNone\u001b[0m\u001b[0;34m:\u001b[0m\u001b[0;34m\u001b[0m\u001b[0m\n\u001b[1;32m     68\u001b[0m             err = TopologicalError(\n",
      "\u001b[0;31mKeyboardInterrupt\u001b[0m: "
     ]
    }
   ],
   "source": [
    "num_squares = 0\n",
    "\n",
    "def emptySpace(position):\n",
    "    \"\"\"\n",
    "    Returns true if a given point is NOT ontop obstacle;\n",
    "    \"\"\"\n",
    "    # iterate over obstacles\n",
    "    for obj in arena_g.loc[arena_g['type'] == 'obstacle', 'geometry']:\n",
    "        # if square doesn't intersect with an obstacle\n",
    "        if obj.intersects(position):\n",
    "            return False\n",
    "    return True\n",
    "\n",
    "def nearestObstacles(position, p):\n",
    "    laser = geom.LineString((position, p))\n",
    "    \n",
    "    nearest = float(\"inf\")\n",
    "    for obj in arena_g.loc[arena_g['type'].isin(['obstacle', 'wall']), 'geometry']:\n",
    "        # find intersections of the laser line segment with obstacles and walls\n",
    "        intersection =  np.array(laser.intersection(obj))\n",
    "        if intersection.shape == (2, 2): # if intersecting a polygon\n",
    "            for i in intersection:\n",
    "                distance = geom.Point(i).distance(position)\n",
    "                if distance < nearest:\n",
    "                    nearest = distance\n",
    "        elif intersection.shape == (2,): # if intersecting another line\n",
    "            distance = geom.Point(intersection).distance(position)\n",
    "            if distance < nearest:\n",
    "                nearest = distance\n",
    "    return nearest\n",
    "    dist_array.append(nearest)\n",
    "    \n",
    "def scan360(position):\n",
    "    dist_array = list()\n",
    "    \n",
    "    # Draw a circle of radius 6 meters, defined by approx. 180 discrete points\n",
    "    circle = position.buffer(6, resolution=45)\n",
    "    # Resolution determines in how many wedges we slice the circle\n",
    "    # print(len(geom.mapping(point)['coordinates'][0]))\n",
    "    \n",
    "    # for each point on the circumference of the circle\n",
    "    # draw a line segment (called laser) from current position to that point\n",
    "    for p in geom.mapping(circle)['coordinates'][0]:\n",
    "        dist_array.append(nearestObstacles(position, p))\n",
    "        \n",
    "    return dist_array\n",
    "\n",
    "    \n",
    "    \n",
    "# iterate over the arena (represented as discrete squares)\n",
    "for x in np.arange(0, W, RESOLUTION):\n",
    "    for y in np.arange(0,H,RESOLUTION):\n",
    "        position = geom.Point(x,y) # we're here\n",
    "        if emptySpace(position):   # if position not on a blocked area, e.g. an obstacle\n",
    "            measurements = scan360(position)"
   ]
  },
  {
   "cell_type": "code",
   "execution_count": null,
   "metadata": {
    "collapsed": true
   },
   "outputs": [],
   "source": []
  },
  {
   "cell_type": "code",
   "execution_count": null,
   "metadata": {
    "collapsed": true
   },
   "outputs": [],
   "source": []
  },
  {
   "cell_type": "code",
   "execution_count": null,
   "metadata": {
    "collapsed": true
   },
   "outputs": [],
   "source": []
  }
 ],
 "metadata": {
  "kernelspec": {
   "display_name": "Python 3",
   "language": "python",
   "name": "python3"
  },
  "language_info": {
   "codemirror_mode": {
    "name": "ipython",
    "version": 3
   },
   "file_extension": ".py",
   "mimetype": "text/x-python",
   "name": "python",
   "nbconvert_exporter": "python",
   "pygments_lexer": "ipython3",
   "version": "3.6.3"
  }
 },
 "nbformat": 4,
 "nbformat_minor": 2
}
