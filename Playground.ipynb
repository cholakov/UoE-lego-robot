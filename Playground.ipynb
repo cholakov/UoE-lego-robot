{
 "cells": [
  {
   "cell_type": "code",
   "execution_count": 3,
   "metadata": {
    "collapsed": true
   },
   "outputs": [],
   "source": [
    "import numpy as np\n",
    "from matplotlib.path import Path\n",
    "import matplotlib.pyplot as plt\n",
    "import math"
   ]
  },
  {
   "cell_type": "code",
   "execution_count": 176,
   "metadata": {},
   "outputs": [],
   "source": [
    "# Define the arena using the upper-case parameters below\n",
    "\n",
    "# The origin of the arena, (0,0) is in the lower left corner \n",
    "# All parametersare in meters \n",
    "\n",
    "RESOLUTION = 0.03\n",
    "\n",
    "# Those were given but not correct\n",
    "W = 4.25\n",
    "H = 3.2\n",
    "\n",
    "# Location of the docking station\n",
    "BASE = [(3.63,1.55), (4.05,1.55), (3.63,1.25), (4.05,1.25)]\n",
    "\n",
    "HIGHWAYS = {\n",
    "    \"top1\" : [],\n",
    "    \"top2\" : []  \n",
    "}\n",
    "\n",
    "# Each obstacle is represented by its vertices (x,y)\n",
    "OBSTACLES = {\n",
    "\t\"triangle_low_left\" : [(-0.1,0), (0.6,0), (-0.1,0.7)],\n",
    "\t\"triangle_up_right\" : [(3.8,3.4), (4.25,3.4), (4.25,2.9)],\n",
    "\t\"triangle_center\" : [(1.1,1), (1.9,1), (1.475,1.65)],\n",
    "\t\"long_rectangle\" : [(1.05,2.45),(3.2,2.45),(3.2,2.29),(1.05,2.29)],\n",
    "\t\"low_right_square\" : [(3.2,1.05), (4.25,1.05), (4.25,0), (3.2,0)]\n",
    "}\n",
    "\n",
    "WALLS = {\n",
    "\t\"bottom\" : ((0,0),(W,0)),\n",
    "\t\"right\" : ((W,0), (W,H)),\n",
    "\t\"top\" : ((W,H), (0,H)),\n",
    "\t\"left\" : ((0,H), (0,0))\n",
    "}\n",
    "\n",
    "\n",
    "###########################################################\n",
    "\n",
    "# Let's begin with generating the arena\n",
    "\n",
    "# Here we accomplish two tasks\n",
    "# 1) Scale to resolution\n",
    "# 2) Invert the y-axis (technically moving the origin to top left)\n",
    "dimensions = (int(H/RESOLUTION),int(W/RESOLUTION))\n",
    "for polygon in OBSTACLES:\n",
    "    for i, xy in enumerate(OBSTACLES[polygon]):\n",
    "        OBSTACLES[polygon][i] = (math.ceil(xy[0]/RESOLUTION),math.ceil((H-xy[1])/RESOLUTION)) # here, also invert \n",
    "for i, xy in enumerate(BASE):\n",
    "    BASE[i] = (int(xy[0]/RESOLUTION),int((H-xy[1])/RESOLUTION))\n",
    "\n",
    "\n",
    "\n",
    "# Generate an array of [x,y] coordinates for all squares on the arena\n",
    "x = np.indices(dimensions)[1].flatten()\n",
    "y = np.indices(dimensions)[0].flatten()\n",
    "all_indices = np.vstack((x,y)).T\n",
    "\n",
    "# Initialize long arena array with all False\n",
    "arena = np.zeros((1, len(all_indices)), dtype=bool)"
   ]
  },
  {
   "cell_type": "code",
   "execution_count": 164,
   "metadata": {},
   "outputs": [
    {
     "data": {
      "image/png": "[encoded data removed]",
      "text/plain": [
       "<matplotlib.figure.Figure at 0x11a5fe470>"
      ]
     },
     "metadata": {},
     "output_type": "display_data"
    }
   ],
   "source": [
    "# mask obstacles\n",
    "for polygon in OBSTACLES:\n",
    "        # initializes a path with the given vertices\n",
    "        p = Path(OBSTACLES[polygon]) \n",
    "        # marks with True the coordinates of the squares surrounded by the path 'p'\n",
    "        mask = p.contains_points(all_indices)\n",
    "        # invert mask\n",
    "        arena = np.not_equal(arena, mask)\n",
    "    \n",
    "# find distances from any point to the nearest wall in a straight line, give an angle theta\n",
    "\n",
    "\n",
    "# Reshape\n",
    "arena = arena.reshape(dimensions)\n",
    "\n",
    "# Plot map\n",
    "plt.rcParams[\"figure.figsize\"] = (20,7)\n",
    "plt.imshow(arena)\n",
    "plt.show()\n",
    "        "
   ]
  }
 ],
 "metadata": {
  "kernelspec": {
   "display_name": "Python 3",
   "language": "python",
   "name": "python3"
  },
  "language_info": {
   "codemirror_mode": {
    "name": "ipython",
    "version": 3
   },
   "file_extension": ".py",
   "mimetype": "text/x-python",
   "name": "python",
   "nbconvert_exporter": "python",
   "pygments_lexer": "ipython3",
   "version": "3.6.3"
  }
 },
 "nbformat": 4,
 "nbformat_minor": 2
}
